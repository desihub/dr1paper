{
 "cells": [
  {
   "cell_type": "markdown",
   "id": "cba2aa0f-0d65-48a4-9788-db56b726b755",
   "metadata": {
    "tags": []
   },
   "source": [
    "## Counting Spectra and Redshifts in DR1\n",
    "\n",
    "Count the number of successful redshifts obtained in DR1 for the DR1 paper, in total and per tracer class.\n",
    "\n",
    "Based on a script originally written by Anthony Kremin (LBNL, March 2023).\n",
    "\n",
    "John Moustakas  \n",
    "Siena College  \n",
    "December 2023"
   ]
  },
  {
   "cell_type": "markdown",
   "id": "cffea598-5fdd-4c7d-b6d6-365f78a68db1",
   "metadata": {
    "tags": []
   },
   "source": [
    "### Setup"
   ]
  },
  {
   "cell_type": "markdown",
   "id": "62739713-5234-422a-b29b-81e55b4d3141",
   "metadata": {
    "tags": []
   },
   "source": [
    "#### Import modules and set latex table formatting."
   ]
  },
  {
   "cell_type": "code",
   "execution_count": 1,
   "id": "f1cdc042-78e3-499a-93c0-0e04b2f382af",
   "metadata": {
    "tags": []
   },
   "outputs": [],
   "source": [
    "import os\n",
    "import numpy as np\n",
    "import matplotlib.pyplot as plt\n",
    "from matplotlib import ticker\n",
    "import fitsio\n",
    "\n",
    "from astropy.io import fits\n",
    "from astropy.table import Table, vstack\n",
    "from astropy.io import ascii\n",
    "\n",
    "import seaborn as sns\n",
    "sns.set(context='talk', style='ticks', font_scale=0.6)\n",
    "\n",
    "rand = np.random.default_rng(seed=1)\n",
    "\n",
    "# latex_dict = {'tabletype': 'deluxetable*', 'tablealign':'htb'}\n",
    "save_figures = False"
   ]
  },
  {
   "cell_type": "code",
   "execution_count": 2,
   "id": "8cc1d4d1-22a9-4f8f-96bd-1de45564c220",
   "metadata": {
    "tags": []
   },
   "outputs": [
    {
     "data": {
      "text/plain": [
       "PosixPath('/global/u2/i/ioannis/code/desihub/dr1paper/nb')"
      ]
     },
     "execution_count": 2,
     "metadata": {},
     "output_type": "execute_result"
    }
   ],
   "source": [
    "import pathlib\n",
    "pathlib.Path().resolve()"
   ]
  },
  {
   "cell_type": "markdown",
   "id": "7ce09746-a4fa-45f3-af73-b7e379b37357",
   "metadata": {
    "tags": []
   },
   "source": [
    "#### Import survey-specific targeting information from [desitarget](https://github.com/desihub/desitarget) and define the surveys and tracers."
   ]
  },
  {
   "cell_type": "code",
   "execution_count": 3,
   "id": "92efb002-9c5e-4d18-b769-7b8ba454abf3",
   "metadata": {
    "tags": []
   },
   "outputs": [],
   "source": [
    "from desitarget.cmx.cmx_targetmask import cmx_mask as cmxmask\n",
    "from desitarget.sv1.sv1_targetmask import desi_mask as sv1mask\n",
    "from desitarget.sv2.sv2_targetmask import desi_mask as sv2mask\n",
    "from desitarget.sv3.sv3_targetmask import desi_mask as sv3mask\n",
    "from desitarget.targetmask import desi_mask\n",
    "\n",
    "tracers = ['BGS', 'ELG', 'LRG', 'QSO', 'STAR', 'SCND']\n",
    "\n",
    "allsurveys = ['cmx', 'sv1', 'sv2', 'sv3', 'special', 'main']\n",
    "groupsurveys = ['sv', 'special', 'main'] # group SV together for the object counts\n",
    "\n",
    "desi_masks = {}\n",
    "desi_masks['main'] = desi_mask\n",
    "desi_masks['special'] = desi_mask\n",
    "desi_masks['cmx'] = cmxmask\n",
    "desi_masks['sv1'] = sv1mask\n",
    "desi_masks['sv2'] = sv2mask\n",
    "desi_masks['sv3'] = sv3mask\n",
    "\n",
    "mask_colnames = {}\n",
    "mask_colnames['main'] = 'DESI_TARGET'\n",
    "mask_colnames['special'] = 'DESI_TARGET'\n",
    "mask_colnames['cmx'] = 'CMX_TARGET'\n",
    "mask_colnames['sv1'] = 'SV1_DESI_TARGET'\n",
    "mask_colnames['sv2'] = 'SV2_DESI_TARGET'\n",
    "mask_colnames['sv3'] = 'SV3_DESI_TARGET'"
   ]
  },
  {
   "cell_type": "markdown",
   "id": "9cd0322e-43a1-4775-b048-921cc62d85a4",
   "metadata": {
    "tags": []
   },
   "source": [
    "#### Define some support routines needed below."
   ]
  },
  {
   "cell_type": "code",
   "execution_count": 4,
   "id": "4665031b-24fd-4ac3-ad4e-5f31b2f57494",
   "metadata": {
    "tags": []
   },
   "outputs": [],
   "source": [
    "def get_targeting_bits(targetid):\n",
    "    targ = []\n",
    "    for name in desi_mask.names():\n",
    "        if desi_mask.mask(name) & targetid != 0:\n",
    "            targ.append(name)\n",
    "    return ' '.join(targ)\n",
    "\n",
    "def latex_N_subscript(subscript):\n",
    "    return r'$\\mathrm{N}_{\\mathrm{'+subscript+r'}}$'\n",
    "\n",
    "def format_number(number):\n",
    "    return f\"{number:,}\"\n",
    "\n",
    "def populate_row(survey, subset_table, tracers):\n",
    "    row = {'Survey': survey}\n",
    "    for tracer in tracers:\n",
    "        if tracer == 'Total':\n",
    "            colname = 'GOODTYPE'\n",
    "        else:\n",
    "            colname = f\"IS{tracer}\"\n",
    "        num = int(np.sum(subset_table[colname]))\n",
    "        row[latex_N_subscript(tracer)] = format_number(num)\n",
    "    return row"
   ]
  },
  {
   "cell_type": "code",
   "execution_count": 5,
   "id": "ee033be2-3a04-46ad-9e55-157476315f76",
   "metadata": {
    "tags": []
   },
   "outputs": [],
   "source": [
    "def read_zcat(specprod='iron'):\n",
    "    \"\"\"Read the redshift catalog for a given specprod.\n",
    "    \n",
    "    \"\"\"\n",
    "    readcols = np.array(['TARGETID', 'SURVEY', 'PROGRAM', 'OBJTYPE', \n",
    "                        'SPECTYPE', 'Z',  'ZWARN',  'DELTACHI2',\n",
    "                        'COADD_FIBERSTATUS',  'ZCAT_NSPEC', 'ZCAT_PRIMARY',\n",
    "                        'CMX_TARGET', 'DESI_TARGET', 'SV1_DESI_TARGET', 'SV2_DESI_TARGET', 'SV3_DESI_TARGET'])\n",
    "    \n",
    "    zcatdir = os.path.join(os.getenv('DESI_ROOT'), 'spectro', 'redux', specprod, 'zcatalog')\n",
    "    \n",
    "    if specprod != 'fuji': # use patched guadalupe & iron catalogs\n",
    "        zcatdir = os.path.join(zcatdir, 'v1')\n",
    "    zcatfile = os.path.join(zcatdir, f'zall-pix-{specprod}.fits')\n",
    "    \n",
    "    allcols = np.array(fitsio.FITS(zcatfile)['ZCATALOG'].get_colnames())\n",
    "    readcols = allcols[np.isin(allcols, readcols)]\n",
    "    \n",
    "    zcat = Table(fitsio.read(zcatfile, columns=readcols))\n",
    "    print(f'Read {len(zcat):,d} rows from {zcatfile}')\n",
    "        \n",
    "    return zcat"
   ]
  },
  {
   "cell_type": "code",
   "execution_count": 6,
   "id": "b45d9456-11aa-494a-99d5-4829239119b6",
   "metadata": {
    "tags": []
   },
   "outputs": [],
   "source": [
    "def identify_tracers(input_zcat):\n",
    "    \"\"\"For each survey and tracer, use the appropriate bitmasks to \n",
    "    identify targeted objects that turned out to be the correct type.\n",
    "    \n",
    "    \"\"\"\n",
    "    # Initialize columns to keep track of tracers. Set to -1 so we can ensure we fill all rows\n",
    "    zcat = input_zcat.copy()    \n",
    "    for tracer in tracers:\n",
    "        zcat.add_column(Table.Column(data=-1*np.ones(len(zcat)), dtype=int, name=f\"IS{tracer}\"))\n",
    "\n",
    "    for survey in sorted(set(zcat['SURVEY'])):\n",
    "        #print(f'Identifying targets for survey: {survey}')\n",
    "        desi_mask = desi_masks[survey]\n",
    "        colname = mask_colnames[survey]\n",
    "        bits = {}\n",
    "        if survey == 'cmx':\n",
    "            bgs = desi_mask.mask('MINI_SV_BGS_BRIGHT|SV0_BGS')\n",
    "            elg = desi_mask.mask('MINI_SV_ELG|SV0_ELG')\n",
    "            lrg = desi_mask.mask('MINI_SV_LRG|SV0_LRG')\n",
    "            qso = desi_mask.mask('MINI_SV_QSO|SV0_QSO|SV0_QSO_Z5')\n",
    "            starbitnames = 'STD_GAIA|SV0_STD_FAINT|SV0_STD_BRIGHT|STD_TEST|STD_CALSPEC|STD_DITHER|' \\\n",
    "                         + 'SV0_MWS_CLUSTER|SV0_MWS_CLUSTER_VERYBRIGHT|SV0_MWS|SV0_WD|BACKUP_BRIGHT|' \\\n",
    "                         + 'BACKUP_FAINT|M31_STD_BRIGHT|M31_H2PN|M31_GC|M31_QSO|M31_VAR|M31_BSPL|M31_M31cen|' \\\n",
    "                         + 'M31_M31out|ORI_STD_BRIGHT|ORI_QSO|ORI_ORI|ORI_HA|M33_STD_BRIGHT|M33_H2PN|M33_GC|' \\\n",
    "                         + 'M33_QSO|M33_M33cen|M33_M33out|SV0_MWS_FAINT|STD_DITHER_GAIA|STD_FAINT|STD_BRIGHT'\n",
    "            star = desi_mask.mask(starbitnames)\n",
    "            sec = 2**70 # secondaries don't exist in cmx, so set it to above the 63rd bit\n",
    "        else:\n",
    "            bgs = desi_mask.mask('BGS_ANY')\n",
    "            elg = desi_mask.mask('ELG')\n",
    "            lrg = desi_mask.mask('LRG')\n",
    "            qso = desi_mask.mask('QSO') \n",
    "            sec = desi_mask.mask('SCND_ANY')\n",
    "            star = desi_mask.mask('MWS_ANY|STD_FAINT|STD_WD|STD_BRIGHT')\n",
    "    \n",
    "        survey_selection = zcat['SURVEY'] == survey\n",
    "        survey_subset = zcat[survey_selection]\n",
    "    \n",
    "        # Check if a {GALAXY,QSO,STAR} target was classified by Redrock as a galaxy, qso, or star.\n",
    "        GALTYPE = survey_subset['SPECTYPE'] == 'GALAXY'\n",
    "        STARTYPE = survey_subset['SPECTYPE'] == 'STAR'\n",
    "        QSOTYPE = survey_subset['SPECTYPE'] == 'QSO'\n",
    "    \n",
    "        # BGS\n",
    "        PASSES_BIT_SEL = (survey_subset[colname] & bgs) > 0\n",
    "        zcat['ISBGS'][survey_selection] = PASSES_BIT_SEL & GALTYPE\n",
    "    \n",
    "        # ELG\n",
    "        PASSES_BIT_SEL = (survey_subset[colname] & elg) > 0\n",
    "        zcat['ISELG'][survey_selection] = PASSES_BIT_SEL & GALTYPE\n",
    "    \n",
    "        # LRG\n",
    "        PASSES_BIT_SEL = (survey_subset[colname] & lrg) > 0\n",
    "        zcat['ISLRG'][survey_selection] = PASSES_BIT_SEL & GALTYPE\n",
    "    \n",
    "        # QSO\n",
    "        PASSES_BIT_SEL = (survey_subset[colname] & qso) > 0\n",
    "        zcat['ISQSO'][survey_selection] = PASSES_BIT_SEL & QSOTYPE\n",
    "    \n",
    "        # STAR\n",
    "        PASSES_BIT_SEL = (survey_subset[colname] & star) > 0\n",
    "        zcat['ISSTAR'][survey_selection] = PASSES_BIT_SEL & STARTYPE\n",
    "    \n",
    "        # Secondaries\n",
    "        PASSES_BIT_SEL = (survey_subset[colname] & sec) > 0\n",
    "        zcat['ISSCND'][survey_selection] = PASSES_BIT_SEL\n",
    "    \n",
    "        #zcat.remove_column(colname)\n",
    "            \n",
    "    # For each tracer, make sure none of the column entries are still the default (-1) then set column to be a boolean.\n",
    "    for tracer in tracers:\n",
    "        col = f\"IS{tracer}\"\n",
    "        if np.any(zcat[col] < 0):\n",
    "            raise ValueError(\"Found {np.sum(zcat[col]):,d} uncategorized tracers {tracer}\")\n",
    "        zcat[col] = Table.Column(data=zcat[col], name=col, dtype=bool)\n",
    "        \n",
    "    # Flag extragalactic targets.\n",
    "    extragal = np.zeros(len(zcat), dtype=bool)\n",
    "    for tracer in ['BGS', 'ELG', 'LRG', 'QSO']:\n",
    "        if tracer in tracers:\n",
    "            extragal |= zcat[f\"IS{tracer}\"].data\n",
    "    zcat.add_column(Table.Column(data=extragal, name='ISEXG'))\n",
    "        \n",
    "    # Flag objects where targeting and Redrock agree on the category/class.\n",
    "    anytracer = np.zeros(len(zcat), dtype=bool)\n",
    "    for tracer in tracers:\n",
    "        anytracer |= np.array(zcat[f\"IS{tracer}\"].data).astype(bool)\n",
    "    zcat.add_column(Table.Column(data=anytracer, name='GOODTYPE'))\n",
    "        \n",
    "    return zcat"
   ]
  },
  {
   "cell_type": "code",
   "execution_count": 28,
   "id": "7ee3a3bf-7099-4d6a-b117-b5a0c422481f",
   "metadata": {
    "tags": []
   },
   "outputs": [],
   "source": [
    "def parse_zcat(input_zcat, specprod='iron', remove_columns=False, verbose=True):\n",
    "    \"\"\"Parse a given redshift catalog.\n",
    "    \n",
    "    If groupsv=True then get the combined statistics for the cmx+sv? surveys separately from main and special.\n",
    "    \n",
    "    \"\"\"\n",
    "    print(f'specprod={specprod}')\n",
    "    \n",
    "    zcat_groupsurvey = {}\n",
    "    \n",
    "    if specprod == 'fuji' or specprod == 'guadalupe':\n",
    "        # No main survey data, so combine everything.\n",
    "        Iall = [np.arange(len(input_zcat))]\n",
    "        groupsurveys = ['all']\n",
    "    else:\n",
    "        M = np.where(input_zcat['SURVEY'] == 'main')[0]\n",
    "        S = np.where(input_zcat['SURVEY'] == 'special')[0]\n",
    "        SV = np.where((input_zcat['SURVEY'] != 'main') * (input_zcat['SURVEY'] != 'special'))[0]\n",
    "        Iall = [SV, S, M]\n",
    "        groupsurveys = ['sv', 'special', 'main']\n",
    "    \n",
    "    for I, groupsurvey in zip(Iall, groupsurveys):\n",
    "        if len(I) == 0:\n",
    "            print(f'No targets in input zcat from survey: {groupsurvey}')\n",
    "            continue\n",
    "            \n",
    "        zcat = input_zcat[I]\n",
    "        if groupsurvey != 'all':\n",
    "            print('###############')\n",
    "            print(f'{groupsurvey}')\n",
    "            print('###############')\n",
    "    \n",
    "        # Count the raw numbers of objects before quality cuts\n",
    "        if verbose:\n",
    "            print(f\"Raw number of zcat entries: {len(zcat):,}\")\n",
    "            for spectype in ['GALAXY', 'QSO', 'STAR']:\n",
    "                print(f\"Raw number of zcat entries for spectype '{spectype}': {np.sum(zcat['SPECTYPE'] == spectype):,}\")    \n",
    "            print()\n",
    "        \n",
    "        # Get the unique object numbers using the ZCAT_PRIMARY column\n",
    "        unique_zcat = zcat[zcat['ZCAT_PRIMARY']]\n",
    "        if verbose:\n",
    "            print(f\"Raw number of unique zcat entries: {len(unique_zcat):,}\")\n",
    "            for spectype in ['GALAXY', 'QSO', 'STAR']:\n",
    "                print(f\"Raw number of unique zcat entries for spectype '{spectype}': {np.sum(unique_zcat['SPECTYPE'] == spectype):,}\")\n",
    "            print()\n",
    "        \n",
    "        # Count the numbers of objects without hardware issues\n",
    "        # COADD_FIBERSTATUS is a bitmask representing hardware or observing issues. \n",
    "        # bit 3 (2\\^3=8) is informational saying the patrol radius for the fiber is \n",
    "        # reduced, but if it made it to it's target then it is still a useful spectrum. \n",
    "        # So we'll allow 2\\^3 or no bits being set. \n",
    "        # \n",
    "        # Bit definitions: https://github.com/desihub/desispec/blob/main/py/desispec/maskbits.py        \n",
    "        zcat = zcat[((zcat['COADD_FIBERSTATUS'] == 0) | (zcat['COADD_FIBERSTATUS'] == 8))]\n",
    "        if remove_columns:\n",
    "            zcat.remove_column('COADD_FIBERSTATUS')\n",
    "\n",
    "        if verbose:\n",
    "            print(f\"Number of zcat entries with good fiberstatus: {len(zcat):,}\")\n",
    "            for spectype in ['GALAXY', 'QSO', 'STAR']:\n",
    "                print(f\"Number of zcat entries with good fiberstatus for spectype '{spectype}': {np.sum(zcat['SPECTYPE'] == spectype):,}\")    \n",
    "            print()\n",
    "\n",
    "        unique_zcat = zcat[zcat['ZCAT_PRIMARY']]\n",
    "        if verbose:\n",
    "            print(f\"Number of unique zcat entries with good fiberstatus: {len(unique_zcat):,}\")\n",
    "            for spectype in ['GALAXY', 'QSO', 'STAR']:\n",
    "                print(f\"Raw number of unique zcat entries with good fiberstatus for spectype '{spectype}': {np.sum(unique_zcat['SPECTYPE'] == spectype):,}\")\n",
    "            print()\n",
    "        \n",
    "        # Only keep science targets\n",
    "        zcat = zcat[zcat['OBJTYPE'] == 'TGT']\n",
    "        if remove_columns:\n",
    "            zcat.remove_column('OBJTYPE')\n",
    "\n",
    "        if verbose:\n",
    "            print(f\"Number of targeted objects with good fiberstatus: {len(zcat):,}\")\n",
    "            for spectype in ['GALAXY', 'QSO', 'STAR']:\n",
    "                print(f\"Number of targeted objects with good fiberstatus for spectype '{spectype}': {np.sum(zcat['SPECTYPE'] == spectype):,}\")    \n",
    "            print()\n",
    "    \n",
    "        unique_zcat = zcat[zcat['ZCAT_PRIMARY']]\n",
    "        if verbose:\n",
    "            print(f\"Number of unique, targeted objects with good fiberstatus: {len(unique_zcat):,}\")\n",
    "            for spectype in ['GALAXY', 'QSO', 'STAR']:\n",
    "                print(f\"Number of unique, targeted objects with good fiberstatus for spectype '{spectype}': {np.sum(unique_zcat['SPECTYPE'] == spectype):,}\")\n",
    "            print()\n",
    "    \n",
    "        # Count the number of science objects without observing, hardware, or redshift fitting issues.\n",
    "        # Remove all spectra with a ZWARN bit set\n",
    "        zcat = zcat[zcat['ZWARN'] == 0]\n",
    "        if remove_columns:\n",
    "            zcat.remove_column('ZWARN')\n",
    "\n",
    "        if verbose:\n",
    "            print(f\"Number of targeted objects without observing or redshift fitting issues: {len(zcat):,}\")\n",
    "            for spectype in ['GALAXY', 'QSO', 'STAR']:\n",
    "                print(f\"Number of targeted objects without observing or redshift fitting issues for spectype '{spectype}': {np.sum(zcat['SPECTYPE'] == spectype):,}\")\n",
    "            print()\n",
    "        \n",
    "        unique_zcat = zcat[zcat['ZCAT_PRIMARY']]\n",
    "        print(f\"Number of unique, targeted objects without observing or redshift fitting issues: {len(unique_zcat):,}\")\n",
    "        for spectype in ['GALAXY', 'QSO', 'STAR']:\n",
    "            print(f\"Number of unique, targeted objects without observing or redshift fitting issues for spectype '{spectype}': {np.sum(unique_zcat['SPECTYPE'] == spectype):,}\")\n",
    "        print()\n",
    "        \n",
    "        # Classify by tracer and extragalactic (or not).\n",
    "        zcat = identify_tracers(zcat)\n",
    "        \n",
    "        print(f\"Number of correctly classified objects: {np.sum(zcat['GOODTYPE']):,}\")\n",
    "        print(f\"Number of unique correctly classified objects: {np.sum(zcat['GOODTYPE'] & zcat['ZCAT_PRIMARY']):,}\")    \n",
    "        print()\n",
    "        \n",
    "        print(f\"Number of correctly classified extragalactic objects: {np.sum(zcat['ISEXG']):,}\")\n",
    "        print(f\"Number of unique correctly classified extragalactic objects: {np.sum(zcat['ISEXG'] & zcat['ZCAT_PRIMARY']):,}\")    \n",
    "        print()\n",
    "        \n",
    "        zcat_groupsurvey[groupsurvey] = zcat        \n",
    "        \n",
    "    return zcat_groupsurvey"
   ]
  },
  {
   "cell_type": "code",
   "execution_count": 29,
   "id": "e2aec3f2-0f7c-4959-9ba8-a58120b78a5c",
   "metadata": {
    "tags": []
   },
   "outputs": [],
   "source": [
    "def build_goodredshift_table(zcat_groupsurvey, specprod=None):\n",
    "    \"\"\"Build the table of good redshifts split by survey and tracer for the paper.\n",
    "    \n",
    "    \"\"\"\n",
    "    colnames = ['Survey'] + [latex_N_subscript(subscript) for subscript in tracers]\n",
    "    goodredshifttab = Table(names=colnames, dtype=['S10']*len(colnames))\n",
    "\n",
    "    zcat_bysurvey = {}\n",
    "    for groupsurvey in zcat_groupsurvey.keys():\n",
    "        print(f'Working on group survey {groupsurvey}')\n",
    "        zcat = zcat_groupsurvey[groupsurvey]\n",
    "        zcat = zcat[zcat['ZCAT_PRIMARY']] # unique objects\n",
    "        for survey in allsurveys:\n",
    "            #print(f'Working on survey {survey}')\n",
    "            zcat_onesurvey = zcat[zcat['SURVEY'] == survey]\n",
    "            if len(zcat_onesurvey) == 0:\n",
    "                #print(f'No data for survey {survey}')\n",
    "                continue\n",
    "\n",
    "            zcat_bysurvey[survey] = zcat_onesurvey\n",
    "            goodredshifttab.add_row(populate_row(survey, zcat_onesurvey, tracers))\n",
    "\n",
    "        if groupsurvey == 'all' or groupsurvey == 'sv':\n",
    "            survey = 'Total'\n",
    "            zcat_bysurvey[groupsurvey] = zcat\n",
    "            row = populate_row(survey, zcat, tracers)\n",
    "            goodredshifttab.add_row(row)\n",
    "    \n",
    "        #print(goodredshifttab)\n",
    "\n",
    "    #print(\"\\nLatex table of number counts:\\n\")\n",
    "    #ascii.write(goodredshifttab, format='aastex', latexdict=latex_dict)\n",
    "    \n",
    "    print(r'\\begin{deluxetable*}{ccccccc}[htb]')\n",
    "    print(r'\\tablecaption{Write me.}')\n",
    "    print(r'\\tablehead{')\n",
    "    print(' & '.join(['\\colhead{Survey}'] + [r'\\colhead{$\\mathrm{N}_{\\mathrm{'+subscript+r'}}$}' for subscript in tracers]))\n",
    "    print('}')\n",
    "    print(r'\\startdata')\n",
    "    for irow in range(len(goodredshifttab)):\n",
    "        survey = goodredshifttab[irow][colnames[0]]\n",
    "        if specprod == 'iron':\n",
    "            if survey == 'cmx':\n",
    "                print(r'\\multicolumn{7}{c}{Commissioning \\& Survey Validation} \\\\')\n",
    "                print(r'\\hline')\n",
    "            elif survey == 'special':\n",
    "                print(r'\\hline')\n",
    "                print(r'\\multicolumn{7}{c}{Special Observations} \\\\')\n",
    "                print(r'\\hline')\n",
    "            elif survey == 'main':\n",
    "                print(r'\\hline')\n",
    "                print(r'\\multicolumn{7}{c}{Main Survey} \\\\')\n",
    "                print(r'\\hline')\n",
    "        print(r' & '.join([survey] + [f'{goodredshifttab[irow][col]}' for col in colnames[1:]])+r' \\\\')\n",
    "    print(r'\\hline')\n",
    "    print(r'\\enddata')\n",
    "    print(r'\\end{deluxetable*}')\n",
    "    \n",
    "    return zcat_bysurvey"
   ]
  },
  {
   "cell_type": "markdown",
   "id": "a581c67a-89bb-4063-bb6f-8f684ccafe69",
   "metadata": {},
   "source": [
    "### Read and parse the redshift catalogs."
   ]
  },
  {
   "cell_type": "markdown",
   "id": "524eab55-afb1-48a1-abe5-2c223a6b363c",
   "metadata": {},
   "source": [
    "#### Guadalupe (DR1 Supplement)"
   ]
  },
  {
   "cell_type": "code",
   "execution_count": 9,
   "id": "ac5bf764-2237-4ced-8828-96a107355c8b",
   "metadata": {
    "tags": []
   },
   "outputs": [
    {
     "name": "stdout",
     "output_type": "stream",
     "text": [
      "Read 3,212,502 rows from /global/cfs/cdirs/desi/spectro/redux/guadalupe/zcatalog/v1/zall-pix-guadalupe.fits\n",
      "CPU times: user 2.08 s, sys: 1.42 s, total: 3.5 s\n",
      "Wall time: 3.65 s\n"
     ]
    }
   ],
   "source": [
    "%time zcat_guadalupe = read_zcat(specprod='guadalupe')"
   ]
  },
  {
   "cell_type": "code",
   "execution_count": 30,
   "id": "f7f82ed7-2c6e-48d0-b3cc-ecb96c20cf65",
   "metadata": {
    "tags": []
   },
   "outputs": [
    {
     "name": "stdout",
     "output_type": "stream",
     "text": [
      "specprod=guadalupe\n",
      "Number of unique, targeted objects without observing or redshift fitting issues: 2,381,686\n",
      "Number of unique, targeted objects without observing or redshift fitting issues for spectype 'GALAXY': 1,781,015\n",
      "Number of unique, targeted objects without observing or redshift fitting issues for spectype 'QSO': 251,302\n",
      "Number of unique, targeted objects without observing or redshift fitting issues for spectype 'STAR': 349,369\n",
      "\n",
      "Number of correctly classified objects: 2,311,451\n",
      "Number of unique correctly classified objects: 2,286,052\n",
      "\n",
      "Number of correctly classified extragalactic objects: 1,937,165\n",
      "Number of unique correctly classified extragalactic objects: 1,916,638\n",
      "\n"
     ]
    }
   ],
   "source": [
    "zcat_groupsurvey_guadalupe = parse_zcat(zcat_guadalupe, specprod='guadalupe', verbose=False)"
   ]
  },
  {
   "cell_type": "markdown",
   "id": "28128dda-41e0-4dba-8969-9138523f1460",
   "metadata": {
    "tags": []
   },
   "source": [
    "#### Iron (DR1)"
   ]
  },
  {
   "cell_type": "code",
   "execution_count": 11,
   "id": "f1330446-473f-4727-a95d-f77b4c56e2d1",
   "metadata": {
    "tags": []
   },
   "outputs": [
    {
     "name": "stdout",
     "output_type": "stream",
     "text": [
      "Read 28,425,963 rows from /global/cfs/cdirs/desi/spectro/redux/iron/zcatalog/v1/zall-pix-iron.fits\n",
      "CPU times: user 21.3 s, sys: 12.8 s, total: 34.1 s\n",
      "Wall time: 33.9 s\n"
     ]
    }
   ],
   "source": [
    "%time zcat_iron = read_zcat(specprod='iron')"
   ]
  },
  {
   "cell_type": "code",
   "execution_count": 12,
   "id": "9a288303-d72a-4e1a-ac30-f393d26a6618",
   "metadata": {
    "tags": []
   },
   "outputs": [
    {
     "name": "stdout",
     "output_type": "stream",
     "text": [
      "specprod=iron\n",
      "###############\n",
      "sv\n",
      "###############\n",
      "Number of unique, targeted objects without observing or redshift fitting issues: 1,611,946\n",
      "Number of unique, targeted objects without observing or redshift fitting issues for spectype 'GALAXY': 1,045,306\n",
      "Number of unique, targeted objects without observing or redshift fitting issues for spectype 'QSO': 88,382\n",
      "Number of unique, targeted objects without observing or redshift fitting issues for spectype 'STAR': 478,258\n",
      "\n",
      "Number of correctly classified objects: 1,689,280\n",
      "Number of unique correctly classified objects: 1,548,708\n",
      "\n",
      "Number of correctly classified extragalactic objects: 1,141,178\n",
      "Number of unique correctly classified extragalactic objects: 1,040,785\n",
      "\n",
      "###############\n",
      "special\n",
      "###############\n",
      "Number of unique, targeted objects without observing or redshift fitting issues: 141,450\n",
      "Number of unique, targeted objects without observing or redshift fitting issues for spectype 'GALAXY': 83,944\n",
      "Number of unique, targeted objects without observing or redshift fitting issues for spectype 'QSO': 3,623\n",
      "Number of unique, targeted objects without observing or redshift fitting issues for spectype 'STAR': 53,883\n",
      "\n",
      "Number of correctly classified objects: 146,053\n",
      "Number of unique correctly classified objects: 136,809\n",
      "\n",
      "Number of correctly classified extragalactic objects: 47,028\n",
      "Number of unique correctly classified extragalactic objects: 40,223\n",
      "\n",
      "###############\n",
      "main\n",
      "###############\n",
      "Number of unique, targeted objects without observing or redshift fitting issues: 18,659,234\n",
      "Number of unique, targeted objects without observing or redshift fitting issues for spectype 'GALAXY': 13,048,999\n",
      "Number of unique, targeted objects without observing or redshift fitting issues for spectype 'QSO': 1,553,666\n",
      "Number of unique, targeted objects without observing or redshift fitting issues for spectype 'STAR': 4,056,569\n",
      "\n",
      "Number of correctly classified objects: 18,674,763\n",
      "Number of unique correctly classified objects: 18,100,961\n",
      "\n",
      "Number of correctly classified extragalactic objects: 14,297,338\n",
      "Number of unique correctly classified extragalactic objects: 13,845,045\n",
      "\n"
     ]
    }
   ],
   "source": [
    "zcat_groupsurvey_iron = parse_zcat(zcat_iron, specprod='iron', verbose=False)"
   ]
  },
  {
   "cell_type": "markdown",
   "id": "c151ef3c-f2cd-4c58-82ab-25fd974e6a5f",
   "metadata": {},
   "source": [
    "#### Fuji (EDR)\n",
    "\n",
    "Reproduce the numbers in the EDR paper."
   ]
  },
  {
   "cell_type": "code",
   "execution_count": 13,
   "id": "aabcbafa-69a4-4ae4-a9fd-cb55f61c4c38",
   "metadata": {
    "tags": []
   },
   "outputs": [
    {
     "name": "stdout",
     "output_type": "stream",
     "text": [
      "Read 2,847,435 rows from /global/cfs/cdirs/desi/spectro/redux/fuji/zcatalog/zall-pix-fuji.fits\n",
      "CPU times: user 2.11 s, sys: 1.69 s, total: 3.8 s\n",
      "Wall time: 3.91 s\n"
     ]
    }
   ],
   "source": [
    "%time zcat_fuji = read_zcat(specprod='fuji')"
   ]
  },
  {
   "cell_type": "code",
   "execution_count": 14,
   "id": "4a5a8e43-de2c-4050-8ac0-e195e17d6c0a",
   "metadata": {
    "tags": []
   },
   "outputs": [
    {
     "name": "stdout",
     "output_type": "stream",
     "text": [
      "specprod=fuji\n",
      "Number of unique, targeted objects without observing or redshift fitting issues: 1,712,004\n",
      "Number of unique, targeted objects without observing or redshift fitting issues for spectype 'GALAXY': 1,125,635\n",
      "Number of unique, targeted objects without observing or redshift fitting issues for spectype 'QSO': 90,241\n",
      "Number of unique, targeted objects without observing or redshift fitting issues for spectype 'STAR': 496,128\n",
      "\n",
      "Number of correctly classified objects: 1,700,166\n",
      "Number of unique correctly classified objects: 1,644,613\n",
      "\n",
      "Number of correctly classified extragalactic objects: 1,151,076\n",
      "Number of unique correctly classified extragalactic objects: 1,116,751\n",
      "\n"
     ]
    }
   ],
   "source": [
    "zcat_groupsurvey_fuji = parse_zcat(zcat_fuji, specprod='fuji', verbose=False)"
   ]
  },
  {
   "cell_type": "markdown",
   "id": "b6270c58-7b93-4436-8d37-f674049410d9",
   "metadata": {},
   "source": [
    "### Generate tables for the paper.\n",
    "\n",
    "For each survey, count the number of unique targets of each tracer and output to a table."
   ]
  },
  {
   "cell_type": "markdown",
   "id": "5d24e293-e459-438d-a8c1-83abfc5f081a",
   "metadata": {},
   "source": [
    "#### Guadalupe (DR1 Supplement)"
   ]
  },
  {
   "cell_type": "code",
   "execution_count": 15,
   "id": "7959bc26-a122-4535-b416-7658ebb593f7",
   "metadata": {
    "tags": []
   },
   "outputs": [
    {
     "name": "stdout",
     "output_type": "stream",
     "text": [
      "Working on group survey special\n",
      "Working on group survey main\n",
      "\\begin{deluxetable*}{ccccccc}[htb]\n",
      "\\tablecaption{Write me.}\n",
      "\\tablehead{\n",
      "\\colhead{Survey} & \\colhead{$\\mathrm{N}_{\\mathrm{BGS}}$} & \\colhead{$\\mathrm{N}_{\\mathrm{ELG}}$} & \\colhead{$\\mathrm{N}_{\\mathrm{LRG}}$} & \\colhead{$\\mathrm{N}_{\\mathrm{QSO}}$} & \\colhead{$\\mathrm{N}_{\\mathrm{STAR}}$} & \\colhead{$\\mathrm{N}_{\\mathrm{SCND}}$}\n",
      "}\n",
      "\\startdata\n",
      "special & 6,271 & 2,157 & 354 & 846 & 2,023 & 4,257 \\\\\n",
      "main & 1,083,129 & 315,405 & 370,743 & 227,642 & 281,542 & 326,440 \\\\\n",
      "\\hline\n",
      "\\enddata\n",
      "\\end{deluxetable*}\n"
     ]
    }
   ],
   "source": [
    "zcat_bysurvey_guadalupe = build_goodredshift_table(zcat_groupsurvey_guadalupe)"
   ]
  },
  {
   "cell_type": "markdown",
   "id": "21a0110c-a7a2-42e1-b416-19e03f00f255",
   "metadata": {},
   "source": [
    "#### Iron (DR1)"
   ]
  },
  {
   "cell_type": "code",
   "execution_count": 16,
   "id": "02546a33-72bc-4d3f-9d49-b5952a376512",
   "metadata": {
    "tags": []
   },
   "outputs": [
    {
     "name": "stdout",
     "output_type": "stream",
     "text": [
      "Working on group survey sv\n",
      "Working on group survey special\n",
      "Working on group survey main\n",
      "\\begin{deluxetable*}{ccccccc}[htb]\n",
      "\\tablecaption{Write me.}\n",
      "\\tablehead{\n",
      "\\colhead{Survey} & \\colhead{$\\mathrm{N}_{\\mathrm{BGS}}$} & \\colhead{$\\mathrm{N}_{\\mathrm{ELG}}$} & \\colhead{$\\mathrm{N}_{\\mathrm{LRG}}$} & \\colhead{$\\mathrm{N}_{\\mathrm{QSO}}$} & \\colhead{$\\mathrm{N}_{\\mathrm{STAR}}$} & \\colhead{$\\mathrm{N}_{\\mathrm{SCND}}$}\n",
      "}\n",
      "\\startdata\n",
      "\\multicolumn{7}{c}{Commissioning \\& Survey Validation} \\\\\n",
      "\\hline\n",
      "cmx & 247 & 734 & 1,040 & 292 & 469 & 0 \\\\\n",
      "sv1 & 128,760 & 109,120 & 62,582 & 29,298 & 158,798 & 59,408 \\\\\n",
      "sv2 & 37,424 & 11,727 & 21,050 & 11,359 & 8,949 & 0 \\\\\n",
      "sv3 & 219,069 & 295,699 & 127,773 & 32,827 & 280,023 & 69,771 \\\\\n",
      "Total & 385,500 & 417,280 & 212,445 & 73,776 & 448,239 & 129,179 \\\\\n",
      "\\hline\n",
      "\\multicolumn{7}{c}{Special Observations} \\\\\n",
      "\\hline\n",
      "special & 31,290 & 4,407 & 3,778 & 2,598 & 42,685 & 58,249 \\\\\n",
      "\\hline\n",
      "\\multicolumn{7}{c}{Main Survey} \\\\\n",
      "\\hline\n",
      "main & 6,279,965 & 3,926,272 & 2,829,517 & 1,340,073 & 3,641,276 & 1,995,162 \\\\\n",
      "\\hline\n",
      "\\enddata\n",
      "\\end{deluxetable*}\n"
     ]
    }
   ],
   "source": [
    "zcat_bysurvey_iron = build_goodredshift_table(zcat_groupsurvey_iron, specprod='iron')"
   ]
  },
  {
   "cell_type": "markdown",
   "id": "ecb31fd5-d240-4c41-b061-475411e185f5",
   "metadata": {},
   "source": [
    "#### Fuji (EDR)\n",
    "\n",
    "Reproduce the numbers in the EDR paper."
   ]
  },
  {
   "cell_type": "code",
   "execution_count": 17,
   "id": "3cf8745b-4b0a-4a23-ad3d-7555fe698c1f",
   "metadata": {
    "tags": []
   },
   "outputs": [
    {
     "name": "stdout",
     "output_type": "stream",
     "text": [
      "Working on group survey all\n",
      "\\begin{deluxetable*}{ccccccc}[htb]\n",
      "\\tablecaption{Write me.}\n",
      "\\tablehead{\n",
      "\\colhead{Survey} & \\colhead{$\\mathrm{N}_{\\mathrm{BGS}}$} & \\colhead{$\\mathrm{N}_{\\mathrm{ELG}}$} & \\colhead{$\\mathrm{N}_{\\mathrm{LRG}}$} & \\colhead{$\\mathrm{N}_{\\mathrm{QSO}}$} & \\colhead{$\\mathrm{N}_{\\mathrm{STAR}}$} & \\colhead{$\\mathrm{N}_{\\mathrm{SCND}}$}\n",
      "}\n",
      "\\startdata\n",
      "cmx & 247 & 761 & 1,037 & 275 & 468 & 0 \\\\\n",
      "sv1 & 133,421 & 111,246 & 65,453 & 28,996 & 162,555 & 59,514 \\\\\n",
      "sv2 & 46,476 & 12,269 & 22,018 & 10,932 & 9,968 & 0 \\\\\n",
      "sv3 & 247,745 & 309,647 & 135,384 & 33,005 & 292,634 & 74,313 \\\\\n",
      "special & 869 & 3,741 & 3,426 & 2,871 & 822 & 3,321 \\\\\n",
      "Total & 428,758 & 437,664 & 227,318 & 76,079 & 466,447 & 137,148 \\\\\n",
      "\\hline\n",
      "\\enddata\n",
      "\\end{deluxetable*}\n"
     ]
    }
   ],
   "source": [
    "zcat_bysurvey_fuji = build_goodredshift_table(zcat_groupsurvey_fuji)"
   ]
  },
  {
   "cell_type": "markdown",
   "id": "9d36b6f3-0510-4b41-9bbb-161dec6c5bfb",
   "metadata": {},
   "source": [
    "### Generate figures for the paper.\n",
    "\n",
    "For each survey, plot the N(z) distribution for the DESI main tracer classes."
   ]
  },
  {
   "cell_type": "code",
   "execution_count": 18,
   "id": "e718ecc5-01dc-4999-a5d6-f4a1f179fcb6",
   "metadata": {},
   "outputs": [],
   "source": [
    "def get_N_summary_str(number):\n",
    "    \"\"\"Simple function to nicely print number of spectra in a sample.\"\"\"\n",
    "    norm = np.round(number, 1-len(str(number))+1)\n",
    "    if number < 1e3:\n",
    "        return str(number)\n",
    "    elif number > 1e3 and number < 1e6:\n",
    "        return f'{number // int(1e3):d}k'\n",
    "    elif number > 1e6 and number < 1e7:\n",
    "        return f'{norm / 1e6:.2g}M'\n",
    "    else:\n",
    "        #print(number, norm)\n",
    "        return f'{norm / 1e6:.3g}M'"
   ]
  },
  {
   "cell_type": "code",
   "execution_count": 19,
   "id": "fd0ffa22-692f-4ea3-8e71-dbc4f7c92e3c",
   "metadata": {
    "tags": []
   },
   "outputs": [],
   "source": [
    "def generate_nofz(zcat, png=None):\n",
    "    \"\"\"Generate redshift histograms split by Redrock type and tracer.\n",
    "    \n",
    "    \"\"\"\n",
    "    from matplotlib.patches import Patch\n",
    "\n",
    "    #colors = {'STAR': 'C5', 'BGS': 'C4', 'LRG': 'C3', 'ELG': 'C2', 'QSO': 'C0', 'GALAXY': 'gray'}\n",
    "    colors = {'STAR': 'C5', 'BGS': 'C4', 'LRG': 'red', 'ELG': 'deepskyblue', 'QSO': 'forestgreen', 'GALAXY': 'gray'}\n",
    "    \n",
    "    stellar_lims = [-0.0015, 0.0015]\n",
    "    extragal_lims = [0, 4.5]\n",
    "    nbins = 150    \n",
    "\n",
    "    fig, ax = plt.subplots(3, 1, figsize=(5.5, 8), gridspec_kw={'height_ratios':[1, 1, 1]})\n",
    "    for ispec, spectype in enumerate(['STAR', 'GALAXY', 'QSO']):\n",
    "        if spectype == 'STAR':\n",
    "            lims =  stellar_lims\n",
    "        else:\n",
    "            lims = extragal_lims\n",
    "        \n",
    "        handles = []\n",
    "        bins = np.arange(lims[0], lims[1], nbins)\n",
    "        \n",
    "        isspectype = zcat['SPECTYPE'] == spectype\n",
    "        \n",
    "        zs = zcat['Z'][isspectype]\n",
    "        n_all, bins_all = np.histogram(zs, bins=nbins, range=lims)\n",
    "    \n",
    "        norm_all = np.max(n_all)\n",
    "        norm_all = np.round(norm_all, 1-len(str(norm_all))+1)\n",
    "        #print(spectype, len(zs), norm_all)\n",
    "      \n",
    "        label = f'{get_N_summary_str(np.sum(isspectype))} {spectype}*'\n",
    "        handles.append(Patch(facecolor='gray', edgecolor='k', label=label, fill=True))\n",
    "\n",
    "        ax[ispec].stairs(n_all / norm_all, bins_all, color='gray', \n",
    "                         fill=True, alpha=0.5)#, label=label)\n",
    "        ax[ispec].stairs(n_all / norm_all, bins_all, color='k')\n",
    "            \n",
    "        if spectype == 'GALAXY':\n",
    "            for itrace, tracer in enumerate(['BGS', 'LRG', 'ELG'][::-1]):\n",
    "                tracercol = f\"IS{tracer}\"\n",
    "\n",
    "                if tracer == 'BGS':\n",
    "                    zs = zcat['Z'][(zcat[tracercol]) & (~zcat['ISLRG']) & (~zcat['ISELG'])]\n",
    "                    #zs = zcat['Z'][(zcat[tracercol]) & (~zcat['ISLRG'])]\n",
    "                elif tracer == 'LRG':\n",
    "                    zs = zcat['Z'][(zcat[tracercol]) & (~zcat['ISELG']) & (~zcat['ISBGS'])]\n",
    "                    #zs = zcat['Z'][(zcat[tracercol]) & (~zcat['ISELG'])]\n",
    "                elif tracer == 'ELG':\n",
    "                    zs = zcat['Z'][(zcat[tracercol]) & (~zcat['ISLRG']) & (~zcat['ISBGS'])]\n",
    "                    #zs = zcat['Z'][zcat[tracercol]]\n",
    "            \n",
    "                label = f'{get_N_summary_str(len(zs))} {tracer}'\n",
    "                handles.append(Patch(color=colors[tracer], label=label, fill=True))\n",
    "                       \n",
    "                n_one, bins_one = np.histogram(zs, bins=nbins, range=lims)\n",
    "                ax[ispec].stairs(n_one / norm_all, bins_one, color=colors[tracer], \n",
    "                                 alpha=0.5, fill=True)#, label=label)\n",
    "                ax[ispec].stairs(n_one / norm_all, bins_one, alpha=1, fill=False, \n",
    "                                 color=colors[tracer])        \n",
    "                       \n",
    "            #ax[ispec].set_xticks([])\n",
    "        else:\n",
    "            tracer = spectype # STAR and QSO\n",
    "            istracer = zcat[f\"IS{tracer}\"]\n",
    "            \n",
    "            zs = zcat['Z'][istracer]\n",
    "            n_tracer, bins_tracer = np.histogram(zs, bins=nbins, range=lims)\n",
    "\n",
    "            label = f'{get_N_summary_str(np.sum(istracer))} {tracer}'\n",
    "            handles.append(Patch(color=colors[tracer], label=label, fill=True))\n",
    "                               \n",
    "            ax[ispec].stairs(n_tracer / norm_all, bins_tracer, color=colors[tracer], \n",
    "                             fill=True, alpha=0.5)#, label=label)\n",
    "            ax[ispec].stairs(n_tracer / norm_all, bins_tracer, alpha=1, fill=False,\n",
    "                             color=colors[tracer])\n",
    "        \n",
    "        ax[ispec].set_ylim(0, 1.05)\n",
    "        ax[ispec].margins(y=0)\n",
    "        #ax[ispec].yaxis.set_major_locator(ticker.MultipleLocator(0.25))\n",
    "        ax[ispec].set_yticks([])\n",
    "    \n",
    "        #norm_str = f'${norm_all:.2g}'.replace('e+0', r'\\times10^{')+'}$'    \n",
    "        #ax[ispec].set_ylabel(latex_N_subscript(spectype)+' ('+norm_str+')')\n",
    "        ax[ispec].set_ylabel(f'Fraction of {spectype}')\n",
    "    \n",
    "        ax[ispec].legend(handles=handles)\n",
    "        #ax[ispec].legend(loc='upper right')\n",
    "        #for hh in ax[ispec].get_legend().legendHandles:\n",
    "        #    hh.set_edgecolor('k')\n",
    "        \n",
    "    ax[-1].set_xlabel('Redshift')\n",
    "    \n",
    "    fig.tight_layout()\n",
    "    if png:\n",
    "        print(f'Writing {png}')\n",
    "        fig.savefig(png)\n",
    "        plt.close()"
   ]
  },
  {
   "cell_type": "markdown",
   "id": "3659b6bd-58b3-4d62-86d3-edd6650dfe57",
   "metadata": {},
   "source": [
    "#### Iron (DR1)"
   ]
  },
  {
   "cell_type": "code",
   "execution_count": 20,
   "id": "cbe1378e-dcca-457a-9989-b46a18685501",
   "metadata": {
    "tags": []
   },
   "outputs": [
    {
     "data": {
      "text/plain": [
       "dict_keys(['cmx', 'sv1', 'sv2', 'sv3', 'sv', 'special', 'main'])"
      ]
     },
     "execution_count": 20,
     "metadata": {},
     "output_type": "execute_result"
    }
   ],
   "source": [
    "zcat_bysurvey_iron.keys()"
   ]
  },
  {
   "cell_type": "code",
   "execution_count": 21,
   "id": "3253c521-9977-4e83-8e47-940e7db27bbf",
   "metadata": {
    "tags": []
   },
   "outputs": [
    {
     "name": "stdout",
     "output_type": "stream",
     "text": [
      "Writing ../figures/nofz-iron-main.png\n"
     ]
    }
   ],
   "source": [
    "generate_nofz(zcat_bysurvey_iron['main'], png='../figures/nofz-iron-main.png')"
   ]
  },
  {
   "cell_type": "code",
   "execution_count": 22,
   "id": "817d9496-65ab-4285-baa9-19dff6728358",
   "metadata": {
    "tags": []
   },
   "outputs": [
    {
     "name": "stdout",
     "output_type": "stream",
     "text": [
      "Writing ../figures/nofz-iron-special.png\n"
     ]
    }
   ],
   "source": [
    "generate_nofz(zcat_bysurvey_iron['special'], png='../figures/nofz-iron-special.png')"
   ]
  },
  {
   "cell_type": "markdown",
   "id": "e88c4bce-4748-4d3d-ada4-1adfe312572a",
   "metadata": {},
   "source": [
    "#### Guadalupe (DR1 Supplement)"
   ]
  },
  {
   "cell_type": "code",
   "execution_count": 23,
   "id": "a06738bc-5655-4a76-b401-96be5454bdc1",
   "metadata": {
    "tags": []
   },
   "outputs": [
    {
     "data": {
      "text/plain": [
       "dict_keys(['special', 'main'])"
      ]
     },
     "execution_count": 23,
     "metadata": {},
     "output_type": "execute_result"
    }
   ],
   "source": [
    "zcat_bysurvey_guadalupe.keys()"
   ]
  },
  {
   "cell_type": "code",
   "execution_count": 24,
   "id": "a668f2b9-d782-4a7d-831c-4fb8b8f674f3",
   "metadata": {
    "tags": []
   },
   "outputs": [
    {
     "name": "stdout",
     "output_type": "stream",
     "text": [
      "Writing ../figures/nofz-guadalupe-main.png\n"
     ]
    }
   ],
   "source": [
    "generate_nofz(zcat_bysurvey_guadalupe['main'], png='../figures/nofz-guadalupe-main.png')"
   ]
  },
  {
   "cell_type": "code",
   "execution_count": 25,
   "id": "0535c860-495c-4f02-8969-e8f8ebd90a5a",
   "metadata": {
    "tags": []
   },
   "outputs": [
    {
     "name": "stdout",
     "output_type": "stream",
     "text": [
      "Writing ../figures/nofz-guadalupe-special.png\n"
     ]
    }
   ],
   "source": [
    "generate_nofz(zcat_bysurvey_guadalupe['special'], png='../figures/nofz-guadalupe-special.png')"
   ]
  },
  {
   "cell_type": "markdown",
   "id": "244a8fb4-750c-4456-8dad-493016a2b99e",
   "metadata": {
    "tags": []
   },
   "source": [
    "#### Choose 4 random extragalactic objects from Iron/main."
   ]
  },
  {
   "cell_type": "code",
   "execution_count": 26,
   "id": "6b52d3f7-6d03-4401-9bf4-ac20b96cc9ab",
   "metadata": {
    "tags": []
   },
   "outputs": [],
   "source": [
    "if False:\n",
    "    nshow = 4\n",
    "    print(f\"{nshow} examples of extragalactic targets:\")\n",
    "    exgal = np.where(zcat_main['ISEXG'])[0]\n",
    "    I = rand.integers(0, len(exgal), nshow)\n",
    "    zcat_main[exgal][I]\n",
    "\n",
    "    print(\"Four examples of spectra where targeting + Redrock did not agree on the type / class.\")\n",
    "    nocat = np.where(~zcat_main['GOODTYPE'])[0]\n",
    "    I = rand.integers(0, len(nocat), nshow)\n",
    "\n",
    "    for targetid, spectype in zip(zcat_main[nocat][I]['TARGETID'], zcat_main[nocat][I]['SPECTYPE']):\n",
    "        print(f'{targetid}: spectype={spectype}, targeting_bits={get_targeting_bits(targetid)}')\n",
    "    \n",
    "    zcat_main[nocat][I]"
   ]
  },
  {
   "cell_type": "markdown",
   "id": "27240b76-dae6-4189-8ae4-992017eee2b7",
   "metadata": {},
   "source": [
    "#### Write data files for Zenodo, one per SPECTYPE"
   ]
  },
  {
   "cell_type": "code",
   "execution_count": 27,
   "id": "0faabf28-ed32-47ab-ab31-9f8f3b42e79b",
   "metadata": {},
   "outputs": [],
   "source": [
    "if save_figures and False:\n",
    "    for spectype in zenodo:\n",
    "        outfile = f'Nz_{spectype}.csv'\n",
    "        zenodo[spectype].write(outfile, overwrite=True)\n",
    "        print(f'Wrote {outfile}')"
   ]
  }
 ],
 "metadata": {
  "kernelspec": {
   "display_name": "DESI main",
   "language": "python",
   "name": "desi-main"
  },
  "language_info": {
   "codemirror_mode": {
    "name": "ipython",
    "version": 3
   },
   "file_extension": ".py",
   "mimetype": "text/x-python",
   "name": "python",
   "nbconvert_exporter": "python",
   "pygments_lexer": "ipython3",
   "version": "3.10.8"
  }
 },
 "nbformat": 4,
 "nbformat_minor": 5
}
