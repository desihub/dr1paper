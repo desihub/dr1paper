{
 "cells": [
  {
   "cell_type": "markdown",
   "id": "cba2aa0f-0d65-48a4-9788-db56b726b755",
   "metadata": {
    "tags": []
   },
   "source": [
    "## Counting Spectra and Redshifts in DR1\n",
    "\n",
    "Count the number of successful redshifts obtained in DR1 for the DR1 paper, in total and per tracer class.\n",
    "\n",
    "Based on a script originally written by Anthony Kremin (LBNL, March 2023).\n",
    "\n",
    "John Moustakas  \n",
    "Siena College  \n",
    "December 2023"
   ]
  },
  {
   "cell_type": "markdown",
   "id": "cffea598-5fdd-4c7d-b6d6-365f78a68db1",
   "metadata": {
    "tags": []
   },
   "source": [
    "### Setup"
   ]
  },
  {
   "cell_type": "markdown",
   "id": "62739713-5234-422a-b29b-81e55b4d3141",
   "metadata": {
    "tags": []
   },
   "source": [
    "#### Import modules and set latex table formatting."
   ]
  },
  {
   "cell_type": "code",
   "execution_count": 1,
   "id": "f1cdc042-78e3-499a-93c0-0e04b2f382af",
   "metadata": {
    "tags": []
   },
   "outputs": [],
   "source": [
    "import os\n",
    "import numpy as np\n",
    "import matplotlib.pyplot as plt\n",
    "import fitsio\n",
    "\n",
    "from astropy.io import fits\n",
    "from astropy.table import Table, vstack\n",
    "from astropy.io import ascii\n",
    "\n",
    "rand = np.random.default_rng(seed=1)\n",
    "\n",
    "# latex_dict = {'tabletype': 'deluxetable*', 'tablealign':'htb'}\n",
    "save_figures = False"
   ]
  },
  {
   "cell_type": "markdown",
   "id": "7ce09746-a4fa-45f3-af73-b7e379b37357",
   "metadata": {
    "tags": []
   },
   "source": [
    "#### Import survey-specific targeting information from [desitarget](https://github.com/desihub/desitarget) and define the surveys and tracers."
   ]
  },
  {
   "cell_type": "code",
   "execution_count": 2,
   "id": "92efb002-9c5e-4d18-b769-7b8ba454abf3",
   "metadata": {
    "tags": []
   },
   "outputs": [],
   "source": [
    "from desitarget.cmx.cmx_targetmask import cmx_mask as cmxmask\n",
    "from desitarget.sv1.sv1_targetmask import desi_mask as sv1mask\n",
    "from desitarget.sv2.sv2_targetmask import desi_mask as sv2mask\n",
    "from desitarget.sv3.sv3_targetmask import desi_mask as sv3mask\n",
    "from desitarget.targetmask import desi_mask\n",
    "\n",
    "tracers = ['BGS', 'ELG', 'LRG', 'QSO', 'STAR', 'SCND']\n",
    "\n",
    "allsurveys = ['cmx', 'sv1', 'sv2', 'sv3', 'special', 'main']\n",
    "groupsurveys = ['sv', 'special', 'main'] # group SV together for the object counts\n",
    "\n",
    "desi_masks = {}\n",
    "desi_masks['main'] = desi_mask\n",
    "desi_masks['special'] = desi_mask\n",
    "desi_masks['cmx'] = cmxmask\n",
    "desi_masks['sv1'] = sv1mask\n",
    "desi_masks['sv2'] = sv2mask\n",
    "desi_masks['sv3'] = sv3mask\n",
    "\n",
    "mask_colnames = {}\n",
    "mask_colnames['main'] = 'DESI_TARGET'\n",
    "mask_colnames['special'] = 'DESI_TARGET'\n",
    "mask_colnames['cmx'] = 'CMX_TARGET'\n",
    "mask_colnames['sv1'] = 'SV1_DESI_TARGET'\n",
    "mask_colnames['sv2'] = 'SV2_DESI_TARGET'\n",
    "mask_colnames['sv3'] = 'SV3_DESI_TARGET'"
   ]
  },
  {
   "cell_type": "markdown",
   "id": "9cd0322e-43a1-4775-b048-921cc62d85a4",
   "metadata": {
    "tags": []
   },
   "source": [
    "#### Define some support routines needed below."
   ]
  },
  {
   "cell_type": "code",
   "execution_count": 3,
   "id": "4665031b-24fd-4ac3-ad4e-5f31b2f57494",
   "metadata": {
    "tags": []
   },
   "outputs": [],
   "source": [
    "def get_targeting_bits(targetid):\n",
    "    targ = []\n",
    "    for name in desi_mask.names():\n",
    "        if desi_mask.mask(name) & targetid != 0:\n",
    "            targ.append(name)\n",
    "    return ' '.join(targ)\n",
    "\n",
    "def latex_N_subscript(subscript):\n",
    "    return r'$\\mathrm{N}_{\\mathrm{'+subscript+r'}}$'\n",
    "\n",
    "def format_number(number):\n",
    "    return f\"{number:,}\"\n",
    "\n",
    "def populate_row(survey, subset_table, tracers):\n",
    "    row = {'Survey': survey}\n",
    "    for tracer in tracers:\n",
    "        if tracer == 'Total':\n",
    "            colname = 'GOODTYPE'\n",
    "        else:\n",
    "            colname = f\"IS{tracer}\"\n",
    "        num = int(np.sum(subset_table[colname]))\n",
    "        row[latex_N_subscript(tracer)] = format_number(num)\n",
    "    return row"
   ]
  },
  {
   "cell_type": "code",
   "execution_count": 4,
   "id": "ee033be2-3a04-46ad-9e55-157476315f76",
   "metadata": {
    "tags": []
   },
   "outputs": [],
   "source": [
    "def read_zcat(specprod='iron'):\n",
    "    \"\"\"Read the redshift catalog for a given specprod.\n",
    "    \n",
    "    \"\"\"\n",
    "    readcols = np.array(['TARGETID', 'SURVEY', 'PROGRAM', 'OBJTYPE', \n",
    "                        'SPECTYPE', 'Z',  'ZWARN',  'DELTACHI2',\n",
    "                        'COADD_FIBERSTATUS',  'ZCAT_NSPEC', 'ZCAT_PRIMARY',\n",
    "                        'CMX_TARGET', 'DESI_TARGET', 'SV1_DESI_TARGET', 'SV2_DESI_TARGET', 'SV3_DESI_TARGET'])\n",
    "    \n",
    "    zcatdir = os.path.join(os.getenv('DESI_ROOT'), 'spectro', 'redux', specprod, 'zcatalog')\n",
    "    \n",
    "    if specprod != 'fuji': # use patched guadalupe & iron catalogs\n",
    "        zcatdir = os.path.join(zcatdir, 'v1')\n",
    "    zcatfile = os.path.join(zcatdir, f'zall-pix-{specprod}.fits')\n",
    "    \n",
    "    allcols = np.array(fitsio.FITS(zcatfile)['ZCATALOG'].get_colnames())\n",
    "    readcols = allcols[np.isin(allcols, readcols)]\n",
    "    \n",
    "    zcat = Table(fitsio.read(zcatfile, columns=readcols))\n",
    "    print(f'Read {len(zcat):,d} rows from {zcatfile}')\n",
    "        \n",
    "    return zcat"
   ]
  },
  {
   "cell_type": "code",
   "execution_count": 5,
   "id": "b45d9456-11aa-494a-99d5-4829239119b6",
   "metadata": {
    "tags": []
   },
   "outputs": [],
   "source": [
    "def identify_tracers(input_zcat):\n",
    "    \"\"\"For each survey and tracer, use the appropriate bitmasks to \n",
    "    identify targeted objects that turned out to be the correct type.\n",
    "    \n",
    "    \"\"\"\n",
    "    # Initialize columns to keep track of tracers. Set to -1 so we can ensure we fill all rows\n",
    "    zcat = input_zcat.copy()    \n",
    "    for tracer in tracers:\n",
    "        zcat.add_column(Table.Column(data=-1*np.ones(len(zcat)), dtype=int, name=f\"IS{tracer}\"))\n",
    "\n",
    "    for survey in sorted(set(zcat['SURVEY'])):\n",
    "        #print(f'Identifying targets for survey: {survey}')\n",
    "        desi_mask = desi_masks[survey]\n",
    "        colname = mask_colnames[survey]\n",
    "        bits = {}\n",
    "        if survey == 'cmx':\n",
    "            bgs = desi_mask.mask('MINI_SV_BGS_BRIGHT|SV0_BGS')\n",
    "            elg = desi_mask.mask('MINI_SV_ELG|SV0_ELG')\n",
    "            lrg = desi_mask.mask('MINI_SV_LRG|SV0_LRG')\n",
    "            qso = desi_mask.mask('MINI_SV_QSO|SV0_QSO|SV0_QSO_Z5')\n",
    "            starbitnames = 'STD_GAIA|SV0_STD_FAINT|SV0_STD_BRIGHT|STD_TEST|STD_CALSPEC|STD_DITHER|' \\\n",
    "                         + 'SV0_MWS_CLUSTER|SV0_MWS_CLUSTER_VERYBRIGHT|SV0_MWS|SV0_WD|BACKUP_BRIGHT|' \\\n",
    "                         + 'BACKUP_FAINT|M31_STD_BRIGHT|M31_H2PN|M31_GC|M31_QSO|M31_VAR|M31_BSPL|M31_M31cen|' \\\n",
    "                         + 'M31_M31out|ORI_STD_BRIGHT|ORI_QSO|ORI_ORI|ORI_HA|M33_STD_BRIGHT|M33_H2PN|M33_GC|' \\\n",
    "                         + 'M33_QSO|M33_M33cen|M33_M33out|SV0_MWS_FAINT|STD_DITHER_GAIA|STD_FAINT|STD_BRIGHT'\n",
    "            star = desi_mask.mask(starbitnames)\n",
    "            sec = 2**70 # secondaries don't exist in cmx, so set it to above the 63rd bit\n",
    "        else:\n",
    "            bgs = desi_mask.mask('BGS_ANY')\n",
    "            elg = desi_mask.mask('ELG')\n",
    "            lrg = desi_mask.mask('LRG')\n",
    "            qso = desi_mask.mask('QSO') \n",
    "            sec = desi_mask.mask('SCND_ANY')\n",
    "            star = desi_mask.mask('MWS_ANY|STD_FAINT|STD_WD|STD_BRIGHT')\n",
    "    \n",
    "        survey_selection = zcat['SURVEY'] == survey\n",
    "        survey_subset = zcat[survey_selection]\n",
    "    \n",
    "        # Check if a {GALAXY,QSO,STAR} target was classified by Redrock as a galaxy, qso, or star.\n",
    "        GALTYPE = survey_subset['SPECTYPE'] == 'GALAXY'\n",
    "        STARTYPE = survey_subset['SPECTYPE'] == 'STAR'\n",
    "        QSOTYPE = survey_subset['SPECTYPE'] == 'QSO'\n",
    "    \n",
    "        # BGS\n",
    "        PASSES_BIT_SEL = (survey_subset[colname] & bgs) > 0\n",
    "        zcat['ISBGS'][survey_selection] = PASSES_BIT_SEL & GALTYPE\n",
    "    \n",
    "        # ELG\n",
    "        PASSES_BIT_SEL = (survey_subset[colname] & elg) > 0\n",
    "        zcat['ISELG'][survey_selection] = PASSES_BIT_SEL & GALTYPE\n",
    "    \n",
    "        # LRG\n",
    "        PASSES_BIT_SEL = (survey_subset[colname] & lrg) > 0\n",
    "        zcat['ISLRG'][survey_selection] = PASSES_BIT_SEL & GALTYPE\n",
    "    \n",
    "        # QSO\n",
    "        PASSES_BIT_SEL = (survey_subset[colname] & qso) > 0\n",
    "        zcat['ISQSO'][survey_selection] = PASSES_BIT_SEL & QSOTYPE\n",
    "    \n",
    "        # STAR\n",
    "        PASSES_BIT_SEL = (survey_subset[colname] & star) > 0\n",
    "        zcat['ISSTAR'][survey_selection] = PASSES_BIT_SEL & STARTYPE\n",
    "    \n",
    "        # Secondaries\n",
    "        PASSES_BIT_SEL = (survey_subset[colname] & sec) > 0\n",
    "        zcat['ISSCND'][survey_selection] = PASSES_BIT_SEL\n",
    "    \n",
    "        #zcat.remove_column(colname)\n",
    "            \n",
    "    # For each tracer, make sure none of the column entries are still the default (-1) then set column to be a boolean.\n",
    "    for tracer in tracers:\n",
    "        col = f\"IS{tracer}\"\n",
    "        if np.any(zcat[col] < 0):\n",
    "            raise ValueError(\"Found {np.sum(zcat[col]):,d} uncategorized tracers {tracer}\")\n",
    "        zcat[col] = Table.Column(data=zcat[col], name=col, dtype=bool)\n",
    "        \n",
    "    # Flag extragalactic targets.\n",
    "    extragal = np.zeros(len(zcat), dtype=bool)\n",
    "    for tracer in ['BGS', 'ELG', 'LRG', 'QSO']:\n",
    "        if tracer in tracers:\n",
    "            extragal |= zcat[f\"IS{tracer}\"].data\n",
    "    zcat.add_column(Table.Column(data=extragal, name='ISEXG'))\n",
    "        \n",
    "    # Flag objects where targeting and Redrock agree on the category/class.\n",
    "    anytracer = np.zeros(len(zcat), dtype=bool)\n",
    "    for tracer in tracers:\n",
    "        anytracer |= np.array(zcat[f\"IS{tracer}\"].data).astype(bool)\n",
    "    zcat.add_column(Table.Column(data=anytracer, name='GOODTYPE'))\n",
    "        \n",
    "    return zcat"
   ]
  },
  {
   "cell_type": "code",
   "execution_count": 25,
   "id": "7ee3a3bf-7099-4d6a-b117-b5a0c422481f",
   "metadata": {
    "tags": []
   },
   "outputs": [],
   "source": [
    "def parse_zcat(input_zcat, specprod='iron', remove_columns=False, verbose=True):\n",
    "    \"\"\"Parse a given redshift catalog.\n",
    "    \n",
    "    If groupsv=True then get the combined statistics for the cmx+sv? surveys separately from main and special.\n",
    "    \n",
    "    \"\"\"\n",
    "    print(f'specprod={specprod}')\n",
    "    \n",
    "    zcat_groupsurvey = {}\n",
    "    \n",
    "    if specprod == 'fuji':\n",
    "        # No main survey data, so combine everything.\n",
    "        Iall = [np.arange(len(input_zcat))]\n",
    "        groupsurveys = ['all']\n",
    "    else:\n",
    "        M = np.where(input_zcat['SURVEY'] == 'main')[0]\n",
    "        S = np.where(input_zcat['SURVEY'] == 'special')[0]\n",
    "        SV = np.where((input_zcat['SURVEY'] != 'main') * (input_zcat['SURVEY'] != 'special'))[0]\n",
    "        Iall = [SV, S, M]\n",
    "        groupsurveys = ['sv', 'special', 'main']\n",
    "    \n",
    "    for I, groupsurvey in zip(Iall, groupsurveys):\n",
    "        if len(I) == 0:\n",
    "            print(f'No targets in input zcat from survey: {groupsurvey}')\n",
    "            continue\n",
    "            \n",
    "        zcat = input_zcat[I]\n",
    "        if groupsurvey != 'all':\n",
    "            print('###############')\n",
    "            print(f'{groupsurvey}')\n",
    "            print('###############')\n",
    "    \n",
    "        # Count the raw numbers of objects before quality cuts\n",
    "        if verbose:\n",
    "            print(f\"Raw number of zcat entries: {len(zcat):,}\")\n",
    "            for spectype in ['GALAXY', 'QSO', 'STAR']:\n",
    "                print(f\"Raw number of zcat entries for spectype '{spectype}': {np.sum(zcat['SPECTYPE'] == spectype):,}\")    \n",
    "            print()\n",
    "        \n",
    "        # Get the unique object numbers using the ZCAT_PRIMARY column\n",
    "        unique_zcat = zcat[zcat['ZCAT_PRIMARY']]\n",
    "        if verbose:\n",
    "            print(f\"Raw number of unique zcat entries: {len(unique_zcat):,}\")\n",
    "            for spectype in ['GALAXY', 'QSO', 'STAR']:\n",
    "                print(f\"Raw number of unique zcat entries for spectype '{spectype}': {np.sum(unique_zcat['SPECTYPE'] == spectype):,}\")\n",
    "            print()\n",
    "        \n",
    "        # Count the numbers of objects without hardware issues\n",
    "        # COADD_FIBERSTATUS is a bitmask representing hardware or observing issues. \n",
    "        # bit 3 (2\\^3=8) is informational saying the patrol radius for the fiber is \n",
    "        # reduced, but if it made it to it's target then it is still a useful spectrum. \n",
    "        # So we'll allow 2\\^3 or no bits being set. \n",
    "        # \n",
    "        # Bit definitions: https://github.com/desihub/desispec/blob/main/py/desispec/maskbits.py        \n",
    "        zcat = zcat[((zcat['COADD_FIBERSTATUS'] == 0) | (zcat['COADD_FIBERSTATUS'] == 8))]\n",
    "        if remove_columns:\n",
    "            zcat.remove_column('COADD_FIBERSTATUS')\n",
    "\n",
    "        if verbose:\n",
    "            print(f\"Number of zcat entries with good fiberstatus: {len(zcat):,}\")\n",
    "            for spectype in ['GALAXY', 'QSO', 'STAR']:\n",
    "                print(f\"Number of zcat entries with good fiberstatus for spectype '{spectype}': {np.sum(zcat['SPECTYPE'] == spectype):,}\")    \n",
    "            print()\n",
    "\n",
    "        unique_zcat = zcat[zcat['ZCAT_PRIMARY']]\n",
    "        if verbose:\n",
    "            print(f\"Number of unique zcat entries with good fiberstatus: {len(unique_zcat):,}\")\n",
    "            for spectype in ['GALAXY', 'QSO', 'STAR']:\n",
    "                print(f\"Raw number of unique zcat entries with good fiberstatus for spectype '{spectype}': {np.sum(unique_zcat['SPECTYPE'] == spectype):,}\")\n",
    "            print()\n",
    "        \n",
    "        # Only keep science targets\n",
    "        zcat = zcat[zcat['OBJTYPE'] == 'TGT']\n",
    "        if remove_columns:\n",
    "            zcat.remove_column('OBJTYPE')\n",
    "\n",
    "        if verbose:\n",
    "            print(f\"Number of targeted objects with good fiberstatus: {len(zcat):,}\")\n",
    "            for spectype in ['GALAXY', 'QSO', 'STAR']:\n",
    "                print(f\"Number of targeted objects with good fiberstatus for spectype '{spectype}': {np.sum(zcat['SPECTYPE'] == spectype):,}\")    \n",
    "            print()\n",
    "    \n",
    "        unique_zcat = zcat[zcat['ZCAT_PRIMARY']]\n",
    "        if verbose:\n",
    "            print(f\"Number of unique, targeted objects with good fiberstatus: {len(unique_zcat):,}\")\n",
    "            for spectype in ['GALAXY', 'QSO', 'STAR']:\n",
    "                print(f\"Number of unique, targeted objects with good fiberstatus for spectype '{spectype}': {np.sum(unique_zcat['SPECTYPE'] == spectype):,}\")\n",
    "            print()\n",
    "    \n",
    "        # Count the number of science objects without observing, hardware, or redshift fitting issues.\n",
    "        # Remove all spectra with a ZWARN bit set\n",
    "        zcat = zcat[zcat['ZWARN'] == 0]\n",
    "        if remove_columns:\n",
    "            zcat.remove_column('ZWARN')\n",
    "\n",
    "        if verbose:\n",
    "            print(f\"Number of targeted objects without observing or redshift fitting issues: {len(zcat):,}\")\n",
    "            for spectype in ['GALAXY', 'QSO', 'STAR']:\n",
    "                print(f\"Number of targeted objects without observing or redshift fitting issues for spectype '{spectype}': {np.sum(zcat['SPECTYPE'] == spectype):,}\")\n",
    "            print()\n",
    "        \n",
    "        unique_zcat = zcat[zcat['ZCAT_PRIMARY']]\n",
    "        print(f\"Number of unique, targeted objects without observing or redshift fitting issues: {len(unique_zcat):,}\")\n",
    "        for spectype in ['GALAXY', 'QSO', 'STAR']:\n",
    "            print(f\"Number of unique, targeted objects without observing or redshift fitting issues for spectype '{spectype}': {np.sum(unique_zcat['SPECTYPE'] == spectype):,}\")\n",
    "        print()\n",
    "        \n",
    "        # Classify by tracer and extragalactic (or not).\n",
    "        zcat = identify_tracers(zcat)\n",
    "        \n",
    "        print(f\"Number of correctly classified objects: {np.sum(zcat['GOODTYPE']):,}\")\n",
    "        print(f\"Number of unique correctly classified objects: {np.sum(zcat['GOODTYPE'] & zcat['ZCAT_PRIMARY']):,}\")    \n",
    "        print()\n",
    "        \n",
    "        print(f\"Number of correctly classified extragalactic objects: {np.sum(zcat['ISEXG']):,}\")\n",
    "        print(f\"Number of unique correctly classified extragalactic objects: {np.sum(zcat['ISEXG'] & zcat['ZCAT_PRIMARY']):,}\")    \n",
    "        print()\n",
    "        \n",
    "        zcat_groupsurvey[groupsurvey] = zcat        \n",
    "        \n",
    "    return zcat_groupsurvey"
   ]
  },
  {
   "cell_type": "code",
   "execution_count": 35,
   "id": "e2aec3f2-0f7c-4959-9ba8-a58120b78a5c",
   "metadata": {
    "tags": []
   },
   "outputs": [],
   "source": [
    "def build_goodredshift_table(zcat_groupsurvey, specprod=None):\n",
    "    \"\"\"Build the table of good redshifts split by survey and tracer for the paper.\n",
    "    \n",
    "    \"\"\"\n",
    "    colnames = ['Survey'] + [latex_N_subscript(subscript) for subscript in tracers]\n",
    "    goodredshifttab = Table(names=colnames, dtype=['S10']*len(colnames))\n",
    "\n",
    "    zcat_bysurvey = {}\n",
    "    for groupsurvey in zcat_groupsurvey.keys():\n",
    "        print(f'Working on group survey {groupsurvey}')\n",
    "        zcat = zcat_groupsurvey[groupsurvey]\n",
    "        zcat = zcat[zcat['ZCAT_PRIMARY']] # unique objects\n",
    "        for survey in allsurveys:\n",
    "            #print(f'Working on survey {survey}')\n",
    "            zcat_onesurvey = zcat[zcat['SURVEY'] == survey]\n",
    "            if len(zcat_onesurvey) == 0:\n",
    "                #print(f'No data for survey {survey}')\n",
    "                continue\n",
    "\n",
    "            zcat_bysurvey[survey] = zcat_onesurvey\n",
    "            goodredshifttab.add_row(populate_row(survey, zcat_onesurvey, tracers))\n",
    "\n",
    "        if groupsurvey == 'all' or groupsurvey == 'sv':\n",
    "            survey = 'Total'\n",
    "            zcat_bysurvey[survey] = zcat\n",
    "            row = populate_row(survey, zcat, tracers)\n",
    "            goodredshifttab.add_row(row)\n",
    "    \n",
    "        #print(goodredshifttab)\n",
    "\n",
    "    #print(\"\\nLatex table of number counts:\\n\")\n",
    "    #ascii.write(goodredshifttab, format='aastex', latexdict=latex_dict)\n",
    "    \n",
    "    print(r'\\begin{deluxetable*}{ccccccc}[htb]')\n",
    "    print(r'\\tablecaption{Write me.}')\n",
    "    print(r'\\tablehead{')\n",
    "    print(' & '.join(['\\colhead{Survey}'] + [r'\\colhead{$\\mathrm{N}_{\\mathrm{'+subscript+r'}}$}' for subscript in tracers]))\n",
    "    print('}')\n",
    "    print(r'\\startdata')\n",
    "    for irow in range(len(goodredshifttab)):\n",
    "        survey = goodredshifttab[irow][colnames[0]]\n",
    "        if specprod == 'iron':\n",
    "            if survey == 'cmx':\n",
    "                print(r'\\multicolumn{7}{c}{Commissioning \\& Survey Validation} \\\\')\n",
    "                print(r'\\hline')\n",
    "            elif survey == 'special':\n",
    "                print(r'\\hline')\n",
    "                print(r'\\multicolumn{7}{c}{Special Observations} \\\\')\n",
    "                print(r'\\hline')\n",
    "            elif survey == 'main':\n",
    "                print(r'\\hline')\n",
    "                print(r'\\multicolumn{7}{c}{Main Survey} \\\\')\n",
    "                print(r'\\hline')\n",
    "        print(r' & '.join([survey] + [f'{goodredshifttab[irow][col]}' for col in colnames[1:]])+r' \\\\')\n",
    "    print(r'\\hline')\n",
    "    print(r'\\enddata')\n",
    "    print(r'\\end{deluxetable*}')\n",
    "    \n",
    "    return zcat_bysurvey"
   ]
  },
  {
   "cell_type": "markdown",
   "id": "a581c67a-89bb-4063-bb6f-8f684ccafe69",
   "metadata": {},
   "source": [
    "### Read and parse the redshift catalogs."
   ]
  },
  {
   "cell_type": "markdown",
   "id": "524eab55-afb1-48a1-abe5-2c223a6b363c",
   "metadata": {},
   "source": [
    "#### Guadalupe (DR1 Supplement)"
   ]
  },
  {
   "cell_type": "code",
   "execution_count": 12,
   "id": "ac5bf764-2237-4ced-8828-96a107355c8b",
   "metadata": {
    "tags": []
   },
   "outputs": [
    {
     "name": "stdout",
     "output_type": "stream",
     "text": [
      "Read 3,212,502 rows from /global/cfs/cdirs/desi/spectro/redux/guadalupe/zcatalog/v1/zall-pix-guadalupe.fits\n",
      "CPU times: user 2.11 s, sys: 1.64 s, total: 3.75 s\n",
      "Wall time: 4 s\n"
     ]
    }
   ],
   "source": [
    "%time zcat_guadalupe = read_zcat(specprod='guadalupe')"
   ]
  },
  {
   "cell_type": "code",
   "execution_count": 27,
   "id": "f7f82ed7-2c6e-48d0-b3cc-ecb96c20cf65",
   "metadata": {
    "tags": []
   },
   "outputs": [
    {
     "name": "stdout",
     "output_type": "stream",
     "text": [
      "specprod=guadalupe\n",
      "No targets in input zcat from survey: sv\n",
      "###############\n",
      "special\n",
      "###############\n",
      "Number of unique, targeted objects without observing or redshift fitting issues: 14,990\n",
      "Number of unique, targeted objects without observing or redshift fitting issues for spectype 'GALAXY': 11,687\n",
      "Number of unique, targeted objects without observing or redshift fitting issues for spectype 'QSO': 959\n",
      "Number of unique, targeted objects without observing or redshift fitting issues for spectype 'STAR': 2,344\n",
      "\n",
      "Number of correctly classified objects: 14,606\n",
      "Number of unique correctly classified objects: 14,493\n",
      "\n",
      "Number of correctly classified extragalactic objects: 9,278\n",
      "Number of unique correctly classified extragalactic objects: 9,278\n",
      "\n",
      "###############\n",
      "main\n",
      "###############\n",
      "Number of unique, targeted objects without observing or redshift fitting issues: 2,366,696\n",
      "Number of unique, targeted objects without observing or redshift fitting issues for spectype 'GALAXY': 1,769,328\n",
      "Number of unique, targeted objects without observing or redshift fitting issues for spectype 'QSO': 250,343\n",
      "Number of unique, targeted objects without observing or redshift fitting issues for spectype 'STAR': 347,025\n",
      "\n",
      "Number of correctly classified objects: 2,296,845\n",
      "Number of unique correctly classified objects: 2,271,559\n",
      "\n",
      "Number of correctly classified extragalactic objects: 1,927,887\n",
      "Number of unique correctly classified extragalactic objects: 1,907,360\n",
      "\n"
     ]
    }
   ],
   "source": [
    "zcat_groupsurvey_guadalupe = parse_zcat(zcat_guadalupe, specprod='guadalupe', verbose=False)"
   ]
  },
  {
   "cell_type": "markdown",
   "id": "28128dda-41e0-4dba-8969-9138523f1460",
   "metadata": {
    "tags": []
   },
   "source": [
    "#### Iron (DR1)"
   ]
  },
  {
   "cell_type": "code",
   "execution_count": 15,
   "id": "f1330446-473f-4727-a95d-f77b4c56e2d1",
   "metadata": {
    "tags": []
   },
   "outputs": [
    {
     "name": "stdout",
     "output_type": "stream",
     "text": [
      "Read 28,425,963 rows from /global/cfs/cdirs/desi/spectro/redux/iron/zcatalog/v1/zall-pix-iron.fits\n",
      "CPU times: user 21.6 s, sys: 16.2 s, total: 37.7 s\n",
      "Wall time: 37.7 s\n"
     ]
    }
   ],
   "source": [
    "%time zcat_iron = read_zcat(specprod='iron')"
   ]
  },
  {
   "cell_type": "code",
   "execution_count": 28,
   "id": "9a288303-d72a-4e1a-ac30-f393d26a6618",
   "metadata": {
    "tags": []
   },
   "outputs": [
    {
     "name": "stdout",
     "output_type": "stream",
     "text": [
      "specprod=iron\n",
      "###############\n",
      "sv\n",
      "###############\n",
      "Number of unique, targeted objects without observing or redshift fitting issues: 1,611,946\n",
      "Number of unique, targeted objects without observing or redshift fitting issues for spectype 'GALAXY': 1,045,306\n",
      "Number of unique, targeted objects without observing or redshift fitting issues for spectype 'QSO': 88,382\n",
      "Number of unique, targeted objects without observing or redshift fitting issues for spectype 'STAR': 478,258\n",
      "\n",
      "Number of correctly classified objects: 1,689,280\n",
      "Number of unique correctly classified objects: 1,548,708\n",
      "\n",
      "Number of correctly classified extragalactic objects: 1,141,178\n",
      "Number of unique correctly classified extragalactic objects: 1,040,785\n",
      "\n",
      "###############\n",
      "special\n",
      "###############\n",
      "Number of unique, targeted objects without observing or redshift fitting issues: 141,450\n",
      "Number of unique, targeted objects without observing or redshift fitting issues for spectype 'GALAXY': 83,944\n",
      "Number of unique, targeted objects without observing or redshift fitting issues for spectype 'QSO': 3,623\n",
      "Number of unique, targeted objects without observing or redshift fitting issues for spectype 'STAR': 53,883\n",
      "\n",
      "Number of correctly classified objects: 146,053\n",
      "Number of unique correctly classified objects: 136,809\n",
      "\n",
      "Number of correctly classified extragalactic objects: 47,028\n",
      "Number of unique correctly classified extragalactic objects: 40,223\n",
      "\n",
      "###############\n",
      "main\n",
      "###############\n",
      "Number of unique, targeted objects without observing or redshift fitting issues: 18,659,234\n",
      "Number of unique, targeted objects without observing or redshift fitting issues for spectype 'GALAXY': 13,048,999\n",
      "Number of unique, targeted objects without observing or redshift fitting issues for spectype 'QSO': 1,553,666\n",
      "Number of unique, targeted objects without observing or redshift fitting issues for spectype 'STAR': 4,056,569\n",
      "\n",
      "Number of correctly classified objects: 18,674,763\n",
      "Number of unique correctly classified objects: 18,100,961\n",
      "\n",
      "Number of correctly classified extragalactic objects: 14,297,338\n",
      "Number of unique correctly classified extragalactic objects: 13,845,045\n",
      "\n"
     ]
    }
   ],
   "source": [
    "zcat_groupsurvey_iron = parse_zcat(zcat_iron, specprod='iron', verbose=False)"
   ]
  },
  {
   "cell_type": "markdown",
   "id": "c151ef3c-f2cd-4c58-82ab-25fd974e6a5f",
   "metadata": {},
   "source": [
    "#### Fuji (EDR)\n",
    "\n",
    "Reproduce the numbers in the EDR paper."
   ]
  },
  {
   "cell_type": "code",
   "execution_count": 8,
   "id": "aabcbafa-69a4-4ae4-a9fd-cb55f61c4c38",
   "metadata": {
    "tags": []
   },
   "outputs": [
    {
     "name": "stdout",
     "output_type": "stream",
     "text": [
      "Read 2,847,435 rows from /global/cfs/cdirs/desi/spectro/redux/fuji/zcatalog/zall-pix-fuji.fits\n",
      "CPU times: user 2.23 s, sys: 1.58 s, total: 3.8 s\n",
      "Wall time: 3.92 s\n"
     ]
    }
   ],
   "source": [
    "%time zcat_fuji = read_zcat(specprod='fuji')"
   ]
  },
  {
   "cell_type": "code",
   "execution_count": 26,
   "id": "4a5a8e43-de2c-4050-8ac0-e195e17d6c0a",
   "metadata": {
    "tags": []
   },
   "outputs": [
    {
     "name": "stdout",
     "output_type": "stream",
     "text": [
      "specprod=fuji\n",
      "Number of unique, targeted objects without observing or redshift fitting issues: 1,712,004\n",
      "Number of unique, targeted objects without observing or redshift fitting issues for spectype 'GALAXY': 1,125,635\n",
      "Number of unique, targeted objects without observing or redshift fitting issues for spectype 'QSO': 90,241\n",
      "Number of unique, targeted objects without observing or redshift fitting issues for spectype 'STAR': 496,128\n",
      "\n",
      "Number of correctly classified objects: 1,700,166\n",
      "Number of unique correctly classified objects: 1,644,613\n",
      "\n",
      "Number of correctly classified extragalactic objects: 1,151,076\n",
      "Number of unique correctly classified extragalactic objects: 1,116,751\n",
      "\n"
     ]
    }
   ],
   "source": [
    "zcat_groupsurvey_fuji = parse_zcat(zcat_fuji, specprod='fuji', verbose=False)"
   ]
  },
  {
   "cell_type": "markdown",
   "id": "b6270c58-7b93-4436-8d37-f674049410d9",
   "metadata": {},
   "source": [
    "### Generate tables for the paper.\n",
    "\n",
    "For each survey, count the number of unique targets of each tracer and output to a table."
   ]
  },
  {
   "cell_type": "markdown",
   "id": "5d24e293-e459-438d-a8c1-83abfc5f081a",
   "metadata": {},
   "source": [
    "#### Guadalupe (DR1 Supplement)"
   ]
  },
  {
   "cell_type": "code",
   "execution_count": 36,
   "id": "7959bc26-a122-4535-b416-7658ebb593f7",
   "metadata": {
    "tags": []
   },
   "outputs": [
    {
     "name": "stdout",
     "output_type": "stream",
     "text": [
      "Working on group survey special\n",
      "Working on group survey main\n",
      "\\begin{deluxetable*}{ccccccc}[htb]\n",
      "\\tablecaption{Write me.}\n",
      "\\tablehead{\n",
      "\\colhead{Survey} & \\colhead{$\\mathrm{N}_{\\mathrm{BGS}}$} & \\colhead{$\\mathrm{N}_{\\mathrm{ELG}}$} & \\colhead{$\\mathrm{N}_{\\mathrm{LRG}}$} & \\colhead{$\\mathrm{N}_{\\mathrm{QSO}}$} & \\colhead{$\\mathrm{N}_{\\mathrm{STAR}}$} & \\colhead{$\\mathrm{N}_{\\mathrm{SCND}}$}\n",
      "}\n",
      "\\startdata\n",
      "special & 6,271 & 2,157 & 354 & 846 & 2,023 & 4,257 \\\\\n",
      "main & 1,083,129 & 315,405 & 370,743 & 227,642 & 281,542 & 326,440 \\\\\n",
      "\\hline\n",
      "\\enddata\n",
      "\\end{deluxetable*}\n"
     ]
    }
   ],
   "source": [
    "zcat_bysurvey_guadalupe = build_goodredshift_table(zcat_groupsurvey_guadalupe)"
   ]
  },
  {
   "cell_type": "markdown",
   "id": "21a0110c-a7a2-42e1-b416-19e03f00f255",
   "metadata": {},
   "source": [
    "#### Iron (DR1)"
   ]
  },
  {
   "cell_type": "code",
   "execution_count": 37,
   "id": "02546a33-72bc-4d3f-9d49-b5952a376512",
   "metadata": {
    "tags": []
   },
   "outputs": [
    {
     "name": "stdout",
     "output_type": "stream",
     "text": [
      "Working on group survey sv\n",
      "Working on group survey special\n",
      "Working on group survey main\n",
      "\\begin{deluxetable*}{ccccccc}[htb]\n",
      "\\tablecaption{Write me.}\n",
      "\\tablehead{\n",
      "\\colhead{Survey} & \\colhead{$\\mathrm{N}_{\\mathrm{BGS}}$} & \\colhead{$\\mathrm{N}_{\\mathrm{ELG}}$} & \\colhead{$\\mathrm{N}_{\\mathrm{LRG}}$} & \\colhead{$\\mathrm{N}_{\\mathrm{QSO}}$} & \\colhead{$\\mathrm{N}_{\\mathrm{STAR}}$} & \\colhead{$\\mathrm{N}_{\\mathrm{SCND}}$}\n",
      "}\n",
      "\\startdata\n",
      "\\multicolumn{7}{c}{Commissioning \\& Survey Validation} \\\\\n",
      "\\hline\n",
      "cmx & 247 & 734 & 1,040 & 292 & 469 & 0 \\\\\n",
      "sv1 & 128,760 & 109,120 & 62,582 & 29,298 & 158,798 & 59,408 \\\\\n",
      "sv2 & 37,424 & 11,727 & 21,050 & 11,359 & 8,949 & 0 \\\\\n",
      "sv3 & 219,069 & 295,699 & 127,773 & 32,827 & 280,023 & 69,771 \\\\\n",
      "Total & 385,500 & 417,280 & 212,445 & 73,776 & 448,239 & 129,179 \\\\\n",
      "\\hline\n",
      "\\multicolumn{7}{c}{Special Observations} \\\\\n",
      "\\hline\n",
      "special & 31,290 & 4,407 & 3,778 & 2,598 & 42,685 & 58,249 \\\\\n",
      "\\hline\n",
      "\\multicolumn{7}{c}{Main Survey} \\\\\n",
      "\\hline\n",
      "main & 6,279,965 & 3,926,272 & 2,829,517 & 1,340,073 & 3,641,276 & 1,995,162 \\\\\n",
      "\\hline\n",
      "\\enddata\n",
      "\\end{deluxetable*}\n"
     ]
    }
   ],
   "source": [
    "zcat_bysurvey_iron = build_goodredshift_table(zcat_groupsurvey_iron, specprod='iron')"
   ]
  },
  {
   "cell_type": "markdown",
   "id": "ecb31fd5-d240-4c41-b061-475411e185f5",
   "metadata": {},
   "source": [
    "#### Fuji (EDR)\n",
    "\n",
    "Reproduce the numbers in the EDR paper."
   ]
  },
  {
   "cell_type": "code",
   "execution_count": 38,
   "id": "3cf8745b-4b0a-4a23-ad3d-7555fe698c1f",
   "metadata": {
    "tags": []
   },
   "outputs": [
    {
     "name": "stdout",
     "output_type": "stream",
     "text": [
      "Working on group survey all\n",
      "\\begin{deluxetable*}{ccccccc}[htb]\n",
      "\\tablecaption{Write me.}\n",
      "\\tablehead{\n",
      "\\colhead{Survey} & \\colhead{$\\mathrm{N}_{\\mathrm{BGS}}$} & \\colhead{$\\mathrm{N}_{\\mathrm{ELG}}$} & \\colhead{$\\mathrm{N}_{\\mathrm{LRG}}$} & \\colhead{$\\mathrm{N}_{\\mathrm{QSO}}$} & \\colhead{$\\mathrm{N}_{\\mathrm{STAR}}$} & \\colhead{$\\mathrm{N}_{\\mathrm{SCND}}$}\n",
      "}\n",
      "\\startdata\n",
      "cmx & 247 & 761 & 1,037 & 275 & 468 & 0 \\\\\n",
      "sv1 & 133,421 & 111,246 & 65,453 & 28,996 & 162,555 & 59,514 \\\\\n",
      "sv2 & 46,476 & 12,269 & 22,018 & 10,932 & 9,968 & 0 \\\\\n",
      "sv3 & 247,745 & 309,647 & 135,384 & 33,005 & 292,634 & 74,313 \\\\\n",
      "special & 869 & 3,741 & 3,426 & 2,871 & 822 & 3,321 \\\\\n",
      "Total & 428,758 & 437,664 & 227,318 & 76,079 & 466,447 & 137,148 \\\\\n",
      "\\hline\n",
      "\\enddata\n",
      "\\end{deluxetable*}\n"
     ]
    }
   ],
   "source": [
    "zcat_bysurvey_fuji = build_goodredshift_table(zcat_groupsurvey_fuji)"
   ]
  },
  {
   "cell_type": "markdown",
   "id": "9d36b6f3-0510-4b41-9bbb-161dec6c5bfb",
   "metadata": {},
   "source": [
    "### Generate figures for the paper.\n",
    "\n",
    "For each survey, plot the N(z) distribution for the DESI main tracer classes."
   ]
  },
  {
   "cell_type": "code",
   "execution_count": 39,
   "id": "e718ecc5-01dc-4999-a5d6-f4a1f179fcb6",
   "metadata": {},
   "outputs": [],
   "source": [
    "def get_N_summary_str(number):\n",
    "    \"\"\"Simple function to nicely print number of spectra in a sample.\"\"\"\n",
    "    number = int(number)\n",
    "    if number < 1e3:\n",
    "        return str(number)\n",
    "    if number < 1e6:\n",
    "        return f'{number // int(1e3):d}k'\n",
    "    else:\n",
    "        return f'{number // int(1e6)}M'"
   ]
  },
  {
   "cell_type": "markdown",
   "id": "f1429e0d-139d-4be4-9609-67c78dc9a6d7",
   "metadata": {},
   "source": [
    "s = {'BGS_BRIGHT-21.5': 'darkgrey', ('BGS_BRIGHT-21.5', (0.1, 0.4)): 'darkgrey',\n",
    "                       'LRG': 'red', ('LRG', (0.4, 0.6)): 'orange', ('LRG', (0.6, 0.8)): 'orangered', ('LRG', (0.8, 1.1)): 'firebrick', ('LRG', (0.4, 1.1)): 'red',\n",
    "                       ('ELG_LOPnotqso', (0.8, 1.1)): 'deepskyblue', ('ELG_LOPnotqso', (1.1, 1.6)): 'steelblue',\n",
    "                       ('QSO', (0.8, 2.1)): 'forestgreen', ('Lya', (1.8, 4.2)): 'purple'}\n"
   ]
  },
  {
   "cell_type": "code",
   "execution_count": 61,
   "id": "7fb39f74-9bad-4afc-9438-4f24dbfe6dc7",
   "metadata": {
    "tags": []
   },
   "outputs": [
    {
     "data": {
      "image/png": "[encoded data removed]",
      "text/plain": [
       "<Figure size 600x800 with 3 Axes>"
      ]
     },
     "metadata": {},
     "output_type": "display_data"
    }
   ],
   "source": [
    "#colors = {'STAR': 'black', 'BGS': 'darkgrey', 'LRG': 'red', 'ELG': 'deepskyblue', 'QSO': 'forestgreen'}\n",
    "colors = {'STAR': 'C5', 'BGS': 'C4', 'LRG': 'C3', 'ELG': 'C2', 'QSO': 'C0'}\n",
    "    \n",
    "stellar_lims = [-0.0015, 0.0015]\n",
    "extragal_lims = [0, 4.0]\n",
    "nbins = 100    \n",
    "\n",
    "zcat = zcat_bysurvey_iron['main']\n",
    "\n",
    "fig, ax = plt.subplots(3, 1, figsize=(6, 8))\n",
    "for ispec, spectype in enumerate(['STAR', 'GALAXY', 'QSO']):\n",
    "    if spectype == 'STAR':\n",
    "        lims =  stellar_lims\n",
    "    else:\n",
    "        lims = extragal_lims\n",
    "\n",
    "    spectype_selection = zcat['SPECTYPE'] == spectype\n",
    "    #n_all, bins_all = np.histogram(zcat['Z'][spectype_selection], bins=nbins, range=lims)\n",
    "        \n",
    "    if spectype == 'GALAXY':\n",
    "        \n",
    "        #ax[ispec].bar(bins_all[:-1], n_all, #histtype='barstacked',\n",
    "        #              color='gray', alpha=0.6, \n",
    "        #              label=f'{get_N_summary_str(np.sum(spectype_selection))} {spectype}')\n",
    "        \n",
    "        zs, labels, colorlist = list(), list(), list()\n",
    "        for itrace, tracer in enumerate(['BGS', 'LRG', 'ELG'][::-1]):\n",
    "            colname = f\"IS{tracer}\"\n",
    "            #label = f'{get_N_summary_str(np.sum(zcat[colname]))} {tracer}'\n",
    "            labels.append(f'{get_N_summary_str(np.sum(zcat[colname]))} {tracer}')\n",
    "            colorlist.append(colors[tracer])\n",
    "            if tracer == 'BGS':\n",
    "                #zs = zcat['Z'][((zcat[colname]) & (~zcat['ISLRG']))]\n",
    "                zs.append(zcat['Z'][((zcat[colname]) & (~zcat['ISLRG']))])\n",
    "            elif tracer == 'LRG':\n",
    "                #zs = zcat['Z'][((zcat[colname]) & (~zcat['ISELG']))]\n",
    "                zs.append(zcat['Z'][((zcat[colname]) & (~zcat['ISELG']))])\n",
    "            else:\n",
    "                #zs = zcat['Z'][zcat[colname]]\n",
    "                zs.append(zcat['Z'][zcat[colname]])\n",
    "                \n",
    "            #n_one, bins_one = np.histogram(zs, bins=nbins, range=lims)\n",
    "            #ax[ispec].bar(bins_one[:-1], n_one, #histtype='barstacked',\n",
    "            #               color=colors[tracer], alpha=0.5)#, label=labels)\n",
    "        \n",
    "        _ = ax[ispec].hist(zcat['Z'][spectype_selection], bins=nbins, range=lims, density=True,\n",
    "                           color='gray', alpha=0.6, label=f'{get_N_summary_str(np.sum(spectype_selection))} {spectype}')\n",
    "        _ = ax[ispec].hist(zs, bins=nbins, range=lims, color=colorlist, alpha=0.5, \n",
    "                           label=labels, stacked=True, histtype='barstacked', density=True)\n",
    "    else:\n",
    "        tracer = spectype\n",
    "        colname = f\"IS{tracer}\"     \n",
    "        #n = ax[ispec].hist(zcat['Z'][spectype_selection], bins=nbins, range=lims, color='gray', \n",
    "        #                   alpha=0.6, label=f'{get_N_summary_str(np.sum(spectype_selection))} {spectype}*')[0]\n",
    "        n = ax[ispec].hist(zcat['Z'][zcat[colname]], bins=nbins, range=lims, color=colors[tracer],\n",
    "                           label=f'{get_N_summary_str(np.sum(zcat[colname]))} {tracer}')[0]    \n",
    "    ax[ispec].legend()"
   ]
  },
  {
   "cell_type": "code",
   "execution_count": 40,
   "id": "f16eb80a-f7e7-430f-956a-78fe403cf00e",
   "metadata": {},
   "outputs": [],
   "source": [
    "def generate_Nofz(zcat_bysurvey, save_figures=False):\n",
    "\n",
    "    colors = {'STAR':'C5', 'BGS':'C4', 'LRG':'C3', 'ELG':'C2', 'QSO':'C0'}\n",
    "    stellar_lims = [-0.0015, 0.0015]\n",
    "    extragal_lims = [0, 4.0]\n",
    "    nbins = 40    \n",
    "\n",
    "    for survey in zcat_bysurvey.keys():\n",
    "        zcat = zcat_bysurvey[survey]\n",
    "        plt.figure(figsize=(8, 8), dpi=120)\n",
    "        plt.subplot(511)\n",
    "\n",
    "        if survey == 'Total':\n",
    "            title_survey = 'Early Data Release'\n",
    "        else:\n",
    "            title_survey = f'EDR: {survey} Survey'\n",
    "\n",
    "        plt.title(f'{title_survey} N(z)')\n",
    "\n",
    "        print(f\"For {survey}:\\n\")\n",
    "        for i, tracer in enumerate(['STAR', 'BGS', 'LRG', 'ELG', 'QSO']):\n",
    "            plt.subplot(511+i)\n",
    "            colname = f\"IS{tracer}\"\n",
    "            \n",
    "            if tracer == 'STAR':\n",
    "                lims =  stellar_lims\n",
    "            else:\n",
    "                lims = extragal_lims\n",
    "\n",
    "            n = plt.hist(subset['Z'][subset[colname]], bins=nbins, range=lims, color=colors[tracer])[0]\n",
    "            plt.ylabel(latex_N_subscript(tracer))\n",
    "        \n",
    "            plt.text(lims[1]*1.03, int(0.8*np.max(n)), f'{get_N_summary_str(np.sum(subset[colname]))} {tracer}', ha='right')\n",
    "\n",
    "        plt.xlabel('redshift')\n",
    "\n",
    "        plt.tight_layout()\n",
    "        if save_figures:\n",
    "            plt.savefig(f'./figures/dr1_{survey.lower()}_Nz.png', facecolor='white', dpi=200)\n",
    "        plt.show()\n",
    "        print(\"\\n\\n\")\n",
    "\n",
    "        plt.close()"
   ]
  },
  {
   "cell_type": "code",
   "execution_count": 42,
   "id": "78af400e-dab7-45dc-8a6c-2fdb7a78d3f7",
   "metadata": {
    "tags": []
   },
   "outputs": [
    {
     "data": {
      "text/plain": [
       "dict_keys(['special', 'main'])"
      ]
     },
     "execution_count": 42,
     "metadata": {},
     "output_type": "execute_result"
    }
   ],
   "source": [
    "zcat_bysurvey_guadalupe.keys()"
   ]
  },
  {
   "cell_type": "code",
   "execution_count": 41,
   "id": "71296453-3d6f-406e-9835-545495cd3375",
   "metadata": {
    "tags": []
   },
   "outputs": [
    {
     "ename": "ValueError",
     "evalue": "too many values to unpack (expected 2)",
     "output_type": "error",
     "traceback": [
      "\u001b[0;31m---------------------------------------------------------------------------\u001b[0m",
      "\u001b[0;31mValueError\u001b[0m                                Traceback (most recent call last)",
      "Cell \u001b[0;32mIn[41], line 1\u001b[0m\n\u001b[0;32m----> 1\u001b[0m \u001b[43mgenerate_Nofz\u001b[49m\u001b[43m(\u001b[49m\u001b[43mzcat_bysurvey_guadalupe\u001b[49m\u001b[43m)\u001b[49m\n",
      "Cell \u001b[0;32mIn[40], line 7\u001b[0m, in \u001b[0;36mgenerate_Nofz\u001b[0;34m(zcat_bysurvey, save_figures)\u001b[0m\n\u001b[1;32m      4\u001b[0m extragal_lims \u001b[38;5;241m=\u001b[39m [\u001b[38;5;241m0\u001b[39m, \u001b[38;5;241m4.0\u001b[39m]\n\u001b[1;32m      5\u001b[0m nbins \u001b[38;5;241m=\u001b[39m \u001b[38;5;241m40\u001b[39m    \n\u001b[0;32m----> 7\u001b[0m \u001b[38;5;28;01mfor\u001b[39;00m survey, zcat \u001b[38;5;129;01min\u001b[39;00m zcat_bysurvey\u001b[38;5;241m.\u001b[39mkeys():\n\u001b[1;32m      8\u001b[0m     plt\u001b[38;5;241m.\u001b[39mfigure(figsize\u001b[38;5;241m=\u001b[39m(\u001b[38;5;241m7.5\u001b[39m,\u001b[38;5;241m5.5\u001b[39m), dpi\u001b[38;5;241m=\u001b[39m\u001b[38;5;241m120\u001b[39m)\n\u001b[1;32m      9\u001b[0m     plt\u001b[38;5;241m.\u001b[39msubplot(\u001b[38;5;241m511\u001b[39m)\n",
      "\u001b[0;31mValueError\u001b[0m: too many values to unpack (expected 2)"
     ]
    }
   ],
   "source": [
    "generate_Nofz(zcat_bysurvey_guadalupe)"
   ]
  },
  {
   "cell_type": "code",
   "execution_count": null,
   "id": "bc0a303f-8d1e-4ef4-8b73-a73a0e70a7dc",
   "metadata": {},
   "outputs": [],
   "source": [
    "stop"
   ]
  },
  {
   "cell_type": "markdown",
   "id": "244a8fb4-750c-4456-8dad-493016a2b99e",
   "metadata": {
    "tags": []
   },
   "source": [
    "#### Choose 4 random extragalactic objects from Iron/main."
   ]
  },
  {
   "cell_type": "code",
   "execution_count": 18,
   "id": "6b52d3f7-6d03-4401-9bf4-ac20b96cc9ab",
   "metadata": {
    "tags": []
   },
   "outputs": [],
   "source": [
    "if False:\n",
    "    nshow = 4\n",
    "    print(f\"{nshow} examples of extragalactic targets:\")\n",
    "    exgal = np.where(zcat_main['ISEXG'])[0]\n",
    "    I = rand.integers(0, len(exgal), nshow)\n",
    "    zcat_main[exgal][I]\n",
    "\n",
    "    print(\"Four examples of spectra where targeting + Redrock did not agree on the type / class.\")\n",
    "    nocat = np.where(~zcat_main['GOODTYPE'])[0]\n",
    "    I = rand.integers(0, len(nocat), nshow)\n",
    "\n",
    "    for targetid, spectype in zip(zcat_main[nocat][I]['TARGETID'], zcat_main[nocat][I]['SPECTYPE']):\n",
    "        print(f'{targetid}: spectype={spectype}, targeting_bits={get_targeting_bits(targetid)}')\n",
    "    \n",
    "    zcat_main[nocat][I]"
   ]
  },
  {
   "cell_type": "markdown",
   "id": "3af9110f-3c6a-4bc3-89b1-d8a9f13c4565",
   "metadata": {},
   "source": [
    "#### For each survey, plot the stacked N(z) distribution for the DESI main extragalactic tracer classes"
   ]
  },
  {
   "cell_type": "code",
   "execution_count": null,
   "id": "4743bba7-6939-4ef6-abc8-ae96fcc18c1a",
   "metadata": {},
   "outputs": [],
   "source": [
    "for survey, subset in subsets.items():\n",
    "    plt.figure(figsize=(6,4), dpi=120)\n",
    "\n",
    "    if survey == 'Total':\n",
    "        title_survey = 'Early Data Release'\n",
    "    else:\n",
    "        title_survey = f'EDR: {survey} Survey'\n",
    "\n",
    "    plt.title(f'{title_survey} Stacked N(z)')\n",
    "\n",
    "    print(f\"For {survey}:\\n\")\n",
    "    zs, labels, colorlist = list(), list(), list()\n",
    "    for i, tracer in enumerate(['BGS', 'LRG', 'ELG', 'QSO'][::-1]):\n",
    "        colname = f\"IS{tracer}\"\n",
    "        zs.append(subset['Z'][subset[colname]])\n",
    "        labels.append(f'{get_N_summary_str(np.sum(subset[colname]))} {tracer}')\n",
    "        colorlist.append(colors[tracer])\n",
    "        \n",
    "    lims = extragal_lims\n",
    "    n = plt.hist(zs, bins=nbins, range=lims, \n",
    "                 color=colorlist, alpha=0.5, label=labels, stacked=True, histtype='barstacked')[0]\n",
    "    plt.ylabel('Number of Objects')\n",
    "        \n",
    "    plt.legend()\n",
    "    plt.xlabel('redshift')\n",
    "\n",
    "    plt.tight_layout()\n",
    "    if save_figures:\n",
    "        plt.savefig(f'./generated_figures/edr_stacked_{survey.lower()}_Nz.png', facecolor='white', dpi=200)\n",
    "    plt.show()\n",
    "    print(\"\\n\\n\")\n",
    "    plt.close()"
   ]
  },
  {
   "cell_type": "markdown",
   "id": "255f8625-7e42-4b4c-b544-b036ff3d9e42",
   "metadata": {},
   "source": [
    "  "
   ]
  },
  {
   "cell_type": "markdown",
   "id": "42d51eb5-8380-4dd2-8295-b4df7f658fe6",
   "metadata": {
    "tags": []
   },
   "source": [
    "#### For each survey, plot the *stacked* N(z) distribution for the Redrock SPECTYPE classes"
   ]
  },
  {
   "cell_type": "code",
   "execution_count": null,
   "id": "32241778-60f1-406c-aa98-e8bc2388f18f",
   "metadata": {},
   "outputs": [],
   "source": [
    "for survey, subset in subsets.items():\n",
    "    plt.figure(figsize=(7.5,5.5), dpi=120)\n",
    "    plt.subplot(311)\n",
    "\n",
    "    if survey == 'Total':\n",
    "        title_survey = 'Early Data Release'\n",
    "    else:\n",
    "        title_survey = f'EDR: {survey} Survey'\n",
    "\n",
    "    plt.title(f'{title_survey} Stacked N(z)')\n",
    "\n",
    "    print(f\"For {survey}:\\n\")\n",
    "    \n",
    "    for i, spectype in enumerate(['STAR', 'GALAXY', 'QSO']):\n",
    "        plt.subplot(311+i)\n",
    "            \n",
    "        if spectype == 'STAR':\n",
    "            lims =  stellar_lims\n",
    "        else:\n",
    "            lims = extragal_lims\n",
    "\n",
    "        if spectype == 'GALAXY':\n",
    "            zs, labels, colorlist = list(), list(), list()\n",
    "            for i, tracer in enumerate(['BGS', 'LRG', 'ELG'][::-1]):\n",
    "                colname = f\"IS{tracer}\"\n",
    "                if tracer == 'BGS':\n",
    "                    zs.append(subset['Z'][((subset[colname])&(~subset['ISLRG']))])\n",
    "                elif tracer == 'LRG':\n",
    "                    zs.append(subset['Z'][((subset[colname])&(~subset['ISELG']))])    \n",
    "                else:\n",
    "                    zs.append(subset['Z'][subset[colname]])\n",
    "                labels.append(f'{get_N_summary_str(np.sum(subset[colname]))} {tracer}')\n",
    "                colorlist.append(colors[tracer])\n",
    "            spectype_selection = (subset['SPECTYPE']==spectype)\n",
    "            n = plt.hist(subset['Z'][spectype_selection], bins=nbins, range=lims, \n",
    "                         color='gray', alpha=0.6, label=f'{get_N_summary_str(np.sum(spectype_selection))} {spectype}')[0]\n",
    "            n = plt.hist(zs, bins=nbins, range=lims, color=colorlist, alpha=0.5, \n",
    "                         label=labels, stacked=True, histtype='barstacked')[0]\n",
    "        else:\n",
    "            tracer = spectype\n",
    "            colname = f\"IS{tracer}\"     \n",
    "            spectype_selection = (subset['SPECTYPE']==spectype)\n",
    "            n = plt.hist(subset['Z'][spectype_selection], bins=nbins, range=lims, color='gray', \n",
    "                         alpha=0.6, label=f'{get_N_summary_str(np.sum(spectype_selection))} {spectype}*')[0]\n",
    "            n = plt.hist(subset['Z'][subset[colname]], bins=nbins, range=lims, color=colors[tracer],\n",
    "                         label=f'{get_N_summary_str(np.sum(subset[colname]))} {tracer}')[0]\n",
    "\n",
    "        plt.ylabel(latex_N_subscript(spectype))\n",
    "        plt.legend()\n",
    "\n",
    "    plt.xlabel('redshift')\n",
    "\n",
    "    plt.tight_layout()\n",
    "    if save_figures:\n",
    "        plt.savefig(f'./generated_figures/edr_stacked_{survey.lower()}_Nz_withallspectype.png', facecolor='white', dpi=200)\n",
    "    plt.show()\n",
    "    print(\"\\n\\n\")\n",
    "\n",
    "    plt.close()\n"
   ]
  },
  {
   "cell_type": "markdown",
   "id": "1d34c2a9-8b21-4a53-99af-c7bdee25c21d",
   "metadata": {
    "tags": []
   },
   "source": [
    "#### For each survey, plot the N(z) distribution for the Redrock SPECTYPE classes"
   ]
  },
  {
   "cell_type": "code",
   "execution_count": null,
   "id": "62c12bf5-ce9f-4043-9c4f-71f3d86bbf2b",
   "metadata": {
    "tags": []
   },
   "outputs": [],
   "source": [
    "#linestyles = {'BGS': 'solid', 'LRG': 'dashed', 'ELG': 'dotted'}\n",
    "hatches = {'BGS': '/', 'LRG': r'', 'ELG': \"\\\\\"}\n",
    "import matplotlib\n",
    "matplotlib.rcParams.update({'font.size': 12.6})\n",
    "\n",
    "for survey, subset in subsets.items():\n",
    "    # plt.figure(figsize=(7.5,5.5), dpi=120)\n",
    "    plt.figure(figsize=(7.5,5.5), dpi=120)\n",
    "\n",
    "    plot1 = plt.subplot2grid((8, 1), (0, 0), rowspan=2)\n",
    "    plot2 = plt.subplot2grid((8, 1), (2, 0), rowspan=4)\n",
    "    plot3 = plt.subplot2grid((8, 1), (6, 0), rowspan=2)\n",
    "\n",
    "    if survey == 'Total':\n",
    "        title_survey = 'DESI Early Data Release'\n",
    "        # zenodo[spectype] = Table with N(z) for that spectype\n",
    "        # different spectypes get different tables because of different N(z) binning\n",
    "        zenodo = dict()\n",
    "    else:\n",
    "        title_survey = f'DESI EDR: {survey} Survey'\n",
    "\n",
    "    plot1.set_title(f'{title_survey} N(z)')\n",
    "    \n",
    "    print(f\"For {survey}:\\n\")\n",
    "    \n",
    "    \n",
    "    for plot, spectype in zip([plot1, plot2, plot3],\n",
    "                              ['STAR', 'GALAXY', 'QSO']):\n",
    "        if spectype == 'STAR':\n",
    "            lims =  stellar_lims\n",
    "        else:\n",
    "            lims = extragal_lims\n",
    "            \n",
    "        if survey == 'Total':\n",
    "            zenodo[spectype] = Table()\n",
    "\n",
    "        if spectype == 'GALAXY':\n",
    "            spectype_selection = (subset['SPECTYPE']==spectype)\n",
    "            n, binedges = plot.hist(subset['Z'][spectype_selection], bins=nbins, range=lims, color='gray', \n",
    "                         alpha=0.4, label=f'{get_N_summary_str(np.sum(spectype_selection))} {spectype}*')[0:2]\n",
    "            \n",
    "            bincenters = (binedges[0:-1] + binedges[1:])/2\n",
    "            if survey == 'Total':\n",
    "                zenodo[spectype]['Z'] = bincenters\n",
    "                zenodo[spectype]['ALL'] = n\n",
    "            \n",
    "            for i, tracer in enumerate(['BGS', 'LRG', 'ELG'][::-1]):\n",
    "                colname = f\"IS{tracer}\"\n",
    "                if tracer == 'BGS':\n",
    "                    zs = subset['Z'][((subset[colname])&(~subset['ISLRG']))]\n",
    "                elif tracer == 'LRG':\n",
    "                    zs = subset['Z'][((subset[colname])&(~subset['ISELG']))] \n",
    "                else:\n",
    "                    zs= subset['Z'][subset[colname]]\n",
    "                n = plot.hist(zs, bins=nbins, range=lims, color=colors[tracer], alpha=0.5, \n",
    "                             label=f'{get_N_summary_str(np.sum(subset[colname]))} {tracer}',\n",
    "                              edgecolor=colors[tracer], linewidth=1.2, histtype='stepfilled',\n",
    "                              hatch=hatches[tracer])[0]\n",
    "                \n",
    "                if survey == 'Total':\n",
    "                    zenodo[spectype][tracer] = n\n",
    "        else:\n",
    "            tracer = spectype\n",
    "            colname = f\"IS{tracer}\"     \n",
    "            spectype_selection = (subset['SPECTYPE']==spectype)\n",
    "            n, binedges = plot.hist(subset['Z'][spectype_selection], bins=nbins, range=lims, color='gray', \n",
    "                         alpha=0.4, label=f'{get_N_summary_str(np.sum(spectype_selection))} {spectype}*')[0:2]\n",
    "            \n",
    "            bincenters = (binedges[0:-1] + binedges[1:])/2\n",
    "            if survey == 'Total':\n",
    "                zenodo[spectype]['Z'] = bincenters\n",
    "                zenodo[spectype]['ALL'] = n\n",
    "\n",
    "            n = plot.hist(subset['Z'][subset[colname]], bins=nbins, range=lims, color=colors[tracer], \n",
    "                         label=f'{get_N_summary_str(np.sum(subset[colname]))} {tracer}',\n",
    "                         edgecolor=colors[tracer], linewidth=1.2)[0]\n",
    "\n",
    "            if survey == 'Total':\n",
    "                zenodo[spectype][spectype] = n\n",
    "            \n",
    "        plot.set_ylabel(latex_N_subscript(spectype))\n",
    "        plot.legend()\n",
    "\n",
    "    plot.set_xlabel('redshift')\n",
    "\n",
    "    plt.tight_layout()\n",
    "    if save_figures:\n",
    "        # plt.savefig(f'./generated_figures/edr_{survey.lower()}_Nz_withallspectype-1-2-1.png', facecolor='white', dpi=200)\n",
    "        plt.savefig(f'./generated_figures/edr_{survey.lower()}_Nz_withallspectype-1-2-1.pdf', facecolor='white')\n",
    "    plt.show()\n",
    "    print(\"\\n\\n\")\n",
    "\n",
    "    plt.close()\n"
   ]
  },
  {
   "cell_type": "markdown",
   "id": "27240b76-dae6-4189-8ae4-992017eee2b7",
   "metadata": {},
   "source": [
    "#### Write data files for Zenodo, one per SPECTYPE"
   ]
  },
  {
   "cell_type": "code",
   "execution_count": null,
   "id": "0faabf28-ed32-47ab-ab31-9f8f3b42e79b",
   "metadata": {},
   "outputs": [],
   "source": [
    "if save_figures:\n",
    "    for spectype in zenodo:\n",
    "        outfile = f'Nz_{spectype}.csv'\n",
    "        zenodo[spectype].write(outfile, overwrite=True)\n",
    "        print(f'Wrote {outfile}')"
   ]
  }
 ],
 "metadata": {
  "kernelspec": {
   "display_name": "DESI main",
   "language": "python",
   "name": "desi-main"
  },
  "language_info": {
   "codemirror_mode": {
    "name": "ipython",
    "version": 3
   },
   "file_extension": ".py",
   "mimetype": "text/x-python",
   "name": "python",
   "nbconvert_exporter": "python",
   "pygments_lexer": "ipython3",
   "version": "3.10.8"
  }
 },
 "nbformat": 4,
 "nbformat_minor": 5
}
